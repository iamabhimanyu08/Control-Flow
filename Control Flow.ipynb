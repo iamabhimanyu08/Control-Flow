{
 "cells": [
  {
   "cell_type": "markdown",
   "metadata": {},
   "source": [
    "# Basic If else statement:"
   ]
  },
  {
   "cell_type": "markdown",
   "metadata": {},
   "source": [
    "### Question 1: Write a python program to check if a given number is positive or negative."
   ]
  },
  {
   "cell_type": "code",
   "execution_count": 1,
   "metadata": {},
   "outputs": [
    {
     "name": "stdout",
     "output_type": "stream",
     "text": [
      "Please enter the numnber34\n",
      "The given number is positive\n"
     ]
    }
   ],
   "source": [
    "num = int(input(\"Please enter the numnber\"))\n",
    "\n",
    "if num < 0 :\n",
    "    print(\"The given number is negative\")\n",
    "else:\n",
    "    print(\"The given number is positive\")"
   ]
  },
  {
   "cell_type": "markdown",
   "metadata": {},
   "source": [
    "### Question 2: Create a program that determines if a person is eligible to vote based on their age."
   ]
  },
  {
   "cell_type": "code",
   "execution_count": 2,
   "metadata": {},
   "outputs": [
    {
     "name": "stdout",
     "output_type": "stream",
     "text": [
      "Please enter your age in years12\n",
      "You are not eligible for voting \n"
     ]
    }
   ],
   "source": [
    "age = int(input(\"Please enter your age in years\"))\n",
    "\n",
    "if age >= 18:\n",
    "    print(\"You are eligible for voting\")\n",
    "else:\n",
    "    print(\"You are not eligible for voting \")"
   ]
  },
  {
   "cell_type": "markdown",
   "metadata": {},
   "source": [
    "### Question 3: Develop a program to find the maximum of two numbers using if-else statements."
   ]
  },
  {
   "cell_type": "code",
   "execution_count": 3,
   "metadata": {},
   "outputs": [
    {
     "name": "stdout",
     "output_type": "stream",
     "text": [
      "Please enter the number11\n",
      "Please enter the number112\n",
      "The maximum of 11.0 and 112.0 is 112.0\n"
     ]
    }
   ],
   "source": [
    "num_1 = float(input(\"Please enter the number\"))\n",
    "num_2 = float(input(\"Please enter the number\"))\n",
    "\n",
    "if num_1 > num_2:\n",
    "    max_num = num_1\n",
    "else:\n",
    "    max_num = num_2\n",
    "print(\"The maximum of\", num_1, \"and\", num_2, \"is\", max_num)"
   ]
  },
  {
   "cell_type": "markdown",
   "metadata": {},
   "source": [
    "### Question 4: Write a python script to classify a given year as a leap year or not."
   ]
  },
  {
   "cell_type": "code",
   "execution_count": 4,
   "metadata": {},
   "outputs": [
    {
     "name": "stdout",
     "output_type": "stream",
     "text": [
      "Enter the year: 1200\n",
      "1200 is a leap year\n"
     ]
    }
   ],
   "source": [
    "year = int(input(\"Enter the year: \"))\n",
    "\n",
    "if (year % 4 == 0 and year % 100 != 0) or (year % 400 == 0):\n",
    "    print(year, \"is a leap year\")\n",
    "else:\n",
    "    print(year, \"is not a leap year\")\n",
    "    "
   ]
  },
  {
   "cell_type": "markdown",
   "metadata": {},
   "source": [
    "### Question 5: Create a program that checks whether a character is a vowel or consonant."
   ]
  },
  {
   "cell_type": "code",
   "execution_count": 5,
   "metadata": {},
   "outputs": [
    {
     "name": "stdout",
     "output_type": "stream",
     "text": [
      "Enter a character: a\n",
      "a is a vowel.\n"
     ]
    }
   ],
   "source": [
    "char = input(\"Enter a character: \").lower()  \n",
    "\n",
    "if len(char) == 1 and char.isalpha():\n",
    "    if char in \"aeiou\":\n",
    "        print(f\"{char} is a vowel.\")\n",
    "    else:\n",
    "        print(f\"{char} is a consonant.\")\n",
    "else:\n",
    "    print(\"Please enter a valid single alphabetic character.\")"
   ]
  },
  {
   "cell_type": "markdown",
   "metadata": {},
   "source": [
    "### Question 6 : Implement a program to determine whether a given number is even or odd."
   ]
  },
  {
   "cell_type": "code",
   "execution_count": 6,
   "metadata": {},
   "outputs": [
    {
     "name": "stdout",
     "output_type": "stream",
     "text": [
      "Enter a number: 34\n",
      "34 is even.\n"
     ]
    }
   ],
   "source": [
    "number = int(input(\"Enter a number: \"))\n",
    "\n",
    "if number % 2 == 0:\n",
    "    print(f\"{number} is even.\")\n",
    "else:\n",
    "    print(f\"{number} is odd.\")"
   ]
  },
  {
   "cell_type": "markdown",
   "metadata": {},
   "source": [
    "### Question 7: Write a python function to calculate the absolute value of a number without using the abs() function."
   ]
  },
  {
   "cell_type": "code",
   "execution_count": 7,
   "metadata": {},
   "outputs": [
    {
     "name": "stdout",
     "output_type": "stream",
     "text": [
      "Enter a number: -34\n",
      "The absolute value of -34.0 is 34.0\n"
     ]
    }
   ],
   "source": [
    "def absolute_value(num):\n",
    "    if num < 0:\n",
    "        return -num\n",
    "    else:\n",
    "        return num\n",
    "\n",
    "number = float(input(\"Enter a number: \"))\n",
    "result = absolute_value(number)\n",
    "print(f\"The absolute value of {number} is {result}\")"
   ]
  },
  {
   "cell_type": "markdown",
   "metadata": {},
   "source": [
    "### Question 8:  Develop a program that determines the largest of three given numbers using if-else statements."
   ]
  },
  {
   "cell_type": "code",
   "execution_count": 9,
   "metadata": {},
   "outputs": [
    {
     "name": "stdout",
     "output_type": "stream",
     "text": [
      "Please enter the number12\n",
      "Please enter the number34\n",
      "Please enter the number435\n",
      "The largest number among 12.0 , 34.0 , and 435.0 is 435.0\n"
     ]
    }
   ],
   "source": [
    "num_1 = float(input(\"Please enter the number\"))\n",
    "num_2 = float(input(\"Please enter the number\"))\n",
    "num_3 = float(input(\"Please enter the number\"))\n",
    "\n",
    "if num_1 >= num_2 and num_1 >= num_3:\n",
    "    largest = num1\n",
    "elif num_2 >= num_1 and num_2 >= num_3:\n",
    "    largest = num_2\n",
    "else:\n",
    "    largest = num_3\n",
    "    \n",
    "print(\"The largest number among\", num_1, \",\", num_2, \", and\", num_3, \"is\", largest)"
   ]
  },
  {
   "cell_type": "markdown",
   "metadata": {},
   "source": [
    "### Question 9 : Create a program that checks if a given string is palindrome."
   ]
  },
  {
   "cell_type": "code",
   "execution_count": 10,
   "metadata": {},
   "outputs": [
    {
     "name": "stdout",
     "output_type": "stream",
     "text": [
      "Enter a string: civic\n",
      "The string is a palindrome.\n"
     ]
    }
   ],
   "source": [
    "string_1 = input(\"Enter a string: \").lower() \n",
    "\n",
    "string_1 = ''.join(e for e in string_1 if e.isalnum())\n",
    "\n",
    "if string_1 == string_1[::-1]:\n",
    "    print(\"The string is a palindrome.\")\n",
    "else:\n",
    "    print(\"The string is not a palindrome.\")"
   ]
  },
  {
   "cell_type": "markdown",
   "metadata": {},
   "source": [
    "### Question 10 : Write a python program to calculate the grade based on a student's score."
   ]
  },
  {
   "cell_type": "code",
   "execution_count": 11,
   "metadata": {},
   "outputs": [
    {
     "name": "stdout",
     "output_type": "stream",
     "text": [
      "Enter the student's score: 89\n",
      "The student's grade is B.\n"
     ]
    }
   ],
   "source": [
    "score = float(input(\"Enter the student's score: \"))\n",
    "\n",
    "if 90 <= score <= 100:\n",
    "    grade = 'A'\n",
    "elif 80 <= score < 90:\n",
    "    grade = 'B'\n",
    "elif 70 <= score < 80:\n",
    "    grade = 'C'\n",
    "elif 60 <= score < 70:\n",
    "    grade = 'D'\n",
    "elif 0 <= score < 60:\n",
    "    grade = 'F'\n",
    "else:\n",
    "    grade = 'Invalid input'\n",
    "\n",
    "if grade == 'Invalid input':\n",
    "    print(\"Invalid input. Please enter a valid score between 0 and 100.\")\n",
    "else:\n",
    "    print(f\"The student's grade is {grade}.\")"
   ]
  },
  {
   "cell_type": "markdown",
   "metadata": {},
   "source": [
    "# Nested if-else Statements:"
   ]
  },
  {
   "cell_type": "markdown",
   "metadata": {},
   "source": [
    "### Question 11 : Write a program to find the largest among three numbers using nested if-else statements."
   ]
  },
  {
   "cell_type": "code",
   "execution_count": 12,
   "metadata": {},
   "outputs": [
    {
     "name": "stdout",
     "output_type": "stream",
     "text": [
      "Please enter the number11\n",
      "Please enter the number3\n",
      "Please enter the number44\n",
      "The largest number among 11.0 , 3.0 , and 44.0 is 44.0\n"
     ]
    }
   ],
   "source": [
    "num_1 = float(input(\"Please enter the number\"))\n",
    "num_2 = float(input(\"Please enter the number\"))\n",
    "num_3 = float(input(\"Please enter the number\"))\n",
    "\n",
    "if num_1 >= num_2:\n",
    "    if num_1 >= num_3:\n",
    "        largest = num_1\n",
    "    else:\n",
    "        largest = num_3\n",
    "else:\n",
    "    if num_2 >= num_3:\n",
    "        largest = num_2\n",
    "    else:\n",
    "        largest = num_3\n",
    "\n",
    "print(\"The largest number among\", num_1, \",\", num_2, \", and\", num_3, \"is\", largest)"
   ]
  },
  {
   "cell_type": "markdown",
   "metadata": {},
   "source": [
    "### Question 12 : Implement a program to determine if a triangle is equilateral, isoceles, or scalene."
   ]
  },
  {
   "cell_type": "code",
   "execution_count": 13,
   "metadata": {},
   "outputs": [
    {
     "name": "stdout",
     "output_type": "stream",
     "text": [
      "Enter the length of the first side: 11\n",
      "Enter the length of the second side: 11\n",
      "Enter the length of the third side: 11\n",
      "The triangle is equilateral.\n"
     ]
    }
   ],
   "source": [
    "# Input the lengths of the three sides of the triangle from the user\n",
    "side_1 = float(input(\"Enter the length of the first side: \"))\n",
    "side_2 = float(input(\"Enter the length of the second side: \"))\n",
    "side_3 = float(input(\"Enter the length of the third side: \"))\n",
    "\n",
    "# Check if it's a valid triangle (triangle inequality theorem)\n",
    "if side_1 + side_2 > side_3 and side_1 + side_3 > side_2 and side_2 + side_3 > side_1:\n",
    "    # Check if it's equilateral (all sides are equal)\n",
    "    if side_1 == side_2 == side_3:\n",
    "        triangle_type = \"equilateral\"\n",
    "    # Check if it's isosceles (two sides are equal)\n",
    "    elif side_1 == side_2 or side_1 == side_3 or side_2 == side_3:\n",
    "        triangle_type = \"isosceles\"\n",
    "    # If it's not equilateral or isosceles, it's scalene (all sides are different)\n",
    "    else:\n",
    "        triangle_type = \"scalene\"\n",
    "    \n",
    "    # Display the type of triangle\n",
    "    print(f\"The triangle is {triangle_type}.\")\n",
    "else:\n",
    "    print(\"These side lengths do not form a valid triangle.\")"
   ]
  },
  {
   "cell_type": "markdown",
   "metadata": {},
   "source": [
    "### Question 13 : Develop a program that checks if a year is leap year and also if it is century year."
   ]
  },
  {
   "cell_type": "code",
   "execution_count": 14,
   "metadata": {},
   "outputs": [
    {
     "name": "stdout",
     "output_type": "stream",
     "text": [
      "Enter a year: 1200\n",
      "1200 is a leap year and a century year.\n"
     ]
    }
   ],
   "source": [
    "year = int(input(\"Enter a year: \"))\n",
    "\n",
    "leap_year = False\n",
    "century_year = False\n",
    "\n",
    "\n",
    "if (year % 4 == 0 and year % 100 != 0) or (year % 400 == 0):\n",
    "    leap_year = True\n",
    "\n",
    "if year % 100 == 0:\n",
    "    century_year = True\n",
    "\n",
    "# Display the results\n",
    "if leap_year:\n",
    "    if century_year:\n",
    "        print(f\"{year} is a leap year and a century year.\")\n",
    "    else:\n",
    "        print(f\"{year} is a leap year but not a century year.\")\n",
    "else:\n",
    "    if century_year:\n",
    "        print(f\"{year} is not a leap year but is a century year.\")\n",
    "    else:\n",
    "        print(f\"{year} is neither a leap year nor a century year.\")"
   ]
  },
  {
   "cell_type": "markdown",
   "metadata": {},
   "source": [
    "### Question 14 : Write a python script to determine if a number is positive, negative or zero."
   ]
  },
  {
   "cell_type": "code",
   "execution_count": 15,
   "metadata": {},
   "outputs": [
    {
     "name": "stdout",
     "output_type": "stream",
     "text": [
      "Enter a number: 23\n",
      "The number is positive.\n"
     ]
    }
   ],
   "source": [
    "num = float(input(\"Enter a number: \"))\n",
    "\n",
    "if num > 0:\n",
    "    print(\"The number is positive.\")\n",
    "elif num < 0:\n",
    "    print(\"The number is negative.\")\n",
    "else:\n",
    "    print(\"The number is zero.\")"
   ]
  },
  {
   "cell_type": "markdown",
   "metadata": {},
   "source": [
    "### Question 15 : Create a program to check if a person is a teenager ( between 13 and 19 years old )."
   ]
  },
  {
   "cell_type": "code",
   "execution_count": 16,
   "metadata": {},
   "outputs": [
    {
     "name": "stdout",
     "output_type": "stream",
     "text": [
      "Enter your age: 34\n",
      "You are not a teenager.\n"
     ]
    }
   ],
   "source": [
    "age = int(input(\"Enter your age: \"))\n",
    "\n",
    "if 13 <= age <= 19:\n",
    "    print(\"You are a teenager.\")\n",
    "else:\n",
    "    print(\"You are not a teenager.\")"
   ]
  },
  {
   "cell_type": "markdown",
   "metadata": {},
   "source": [
    "### Question 16 : Develop a program that determines the type of angle based on its measure ( acute, obtuse, or right).\n"
   ]
  },
  {
   "cell_type": "code",
   "execution_count": 17,
   "metadata": {},
   "outputs": [
    {
     "name": "stdout",
     "output_type": "stream",
     "text": [
      "Enter the angle measure in degrees: 34\n",
      "The angle is acute.\n"
     ]
    }
   ],
   "source": [
    "angle = float(input(\"Enter the angle measure in degrees: \"))\n",
    "\n",
    "if 0 < angle < 90:\n",
    "    angle_type = \"acute\"\n",
    "elif angle == 90:\n",
    "    angle_type = \"right\"\n",
    "elif 90 < angle < 180:\n",
    "    angle_type = \"obtuse\"\n",
    "else:\n",
    "    angle_type = \"invalid\"\n",
    "\n",
    "if angle_type == \"invalid\":\n",
    "    print(\"Invalid angle measure. Please enter an angle between 0 and 180 degrees.\")\n",
    "else:\n",
    "    print(f\"The angle is {angle_type}.\")"
   ]
  },
  {
   "cell_type": "markdown",
   "metadata": {},
   "source": [
    "### Question 17 : Write a python program to calculate the roots of a quadratic equation."
   ]
  },
  {
   "cell_type": "code",
   "execution_count": 18,
   "metadata": {},
   "outputs": [
    {
     "name": "stdout",
     "output_type": "stream",
     "text": [
      "Enter the coefficient a: 12\n",
      "Enter the coefficient b: 23\n",
      "Enter the coefficient c: 34\n",
      "The roots are complex: -0.9583333333333334 + 1.3838101587846345i and -0.9583333333333334 - 1.3838101587846345i\n"
     ]
    }
   ],
   "source": [
    "import math\n",
    "\n",
    "a = float(input(\"Enter the coefficient a: \"))\n",
    "b = float(input(\"Enter the coefficient b: \"))\n",
    "c = float(input(\"Enter the coefficient c: \"))\n",
    "\n",
    "\n",
    "discriminant = b**2 - 4*a*c\n",
    "\n",
    "\n",
    "if discriminant > 0:\n",
    "    # Two real and distinct roots\n",
    "    root1 = (-b + math.sqrt(discriminant)) / (2*a)\n",
    "    root2 = (-b - math.sqrt(discriminant)) / (2*a)\n",
    "    print(f\"The roots are real and distinct: {root1} and {root2}\")\n",
    "elif discriminant == 0:\n",
    "    # One real root (a repeated root)\n",
    "    root = -b / (2*a)\n",
    "    print(f\"The root is real and repeated: {root}\")\n",
    "else:\n",
    "    # Complex roots\n",
    "    real_part = -b / (2*a)\n",
    "    imaginary_part = math.sqrt(abs(discriminant)) / (2*a)\n",
    "    print(f\"The roots are complex: {real_part} + {imaginary_part}i and {real_part} - {imaginary_part}i\")"
   ]
  },
  {
   "cell_type": "markdown",
   "metadata": {},
   "source": [
    "### Question 18 : Implement a program to determine the day of the week based on a user- provided number (1 for Monday, 2 for Tuesday, etc)"
   ]
  },
  {
   "cell_type": "code",
   "execution_count": 19,
   "metadata": {},
   "outputs": [
    {
     "name": "stdout",
     "output_type": "stream",
     "text": [
      "Enter a number (1 for Monday, 2 for Tuesday, etc.): 2\n",
      "The day corresponding to 2 is Tuesday.\n"
     ]
    }
   ],
   "source": [
    "\n",
    "day_number = int(input(\"Enter a number (1 for Monday, 2 for Tuesday, etc.): \"))\n",
    "\n",
    "days_of_week = [\"Monday\", \"Tuesday\", \"Wednesday\", \"Thursday\", \"Friday\", \"Saturday\", \"Sunday\"]\n",
    "\n",
    "if 1 <= day_number <= 7:\n",
    "    \n",
    "    day_name = days_of_week[day_number - 1]\n",
    "    print(f\"The day corresponding to {day_number} is {day_name}.\")\n",
    "else:\n",
    "    print(\"Invalid input. Please enter a number between 1 and 7.\")"
   ]
  },
  {
   "cell_type": "markdown",
   "metadata": {},
   "source": [
    "### Question 19 : Create a program that determines if a leap year and also if it is evenly divisible by 400."
   ]
  },
  {
   "cell_type": "code",
   "execution_count": 20,
   "metadata": {},
   "outputs": [
    {
     "name": "stdout",
     "output_type": "stream",
     "text": [
      "Enter a year: 1200\n",
      "1200 is a leap year.\n",
      "1200 is evenly divisible by 400.\n"
     ]
    }
   ],
   "source": [
    "year = int(input(\"Enter a year: \"))\n",
    "\n",
    "# Check if it's a leap year\n",
    "leap_year = False\n",
    "\n",
    "if (year % 4 == 0 and year % 100 != 0) or (year % 400 == 0):\n",
    "    leap_year = True\n",
    "\n",
    "# Check if it's evenly divisible by 400\n",
    "divisible_by_400 = year % 400 == 0\n",
    "\n",
    "# Display the results\n",
    "if leap_year:\n",
    "    print(f\"{year} is a leap year.\")\n",
    "else:\n",
    "    print(f\"{year} is not a leap year.\")\n",
    "\n",
    "if divisible_by_400:\n",
    "    print(f\"{year} is evenly divisible by 400.\")\n",
    "else:\n",
    "    print(f\"{year} is not evenly divisible by 400.\")"
   ]
  },
  {
   "cell_type": "markdown",
   "metadata": {},
   "source": [
    "### Question 20 : Develop a program that checks if a given number is prime or not using nested if-else statement."
   ]
  },
  {
   "cell_type": "code",
   "execution_count": 21,
   "metadata": {},
   "outputs": [
    {
     "name": "stdout",
     "output_type": "stream",
     "text": [
      "Enter a number: 12\n",
      "12 is not a prime number.\n"
     ]
    }
   ],
   "source": [
    "num = int(input(\"Enter a number: \"))\n",
    "\n",
    "if num > 1:\n",
    "    # Check if the number is divisible by any integer from 2 to the square root of the number\n",
    "    prime = True\n",
    "    for i in range(2, int(num**0.5) + 1):\n",
    "        if num % i == 0:\n",
    "            prime = False\n",
    "            break\n",
    "\n",
    "    # Display the result\n",
    "    if prime:\n",
    "        print(f\"{num} is a prime number.\")\n",
    "    else:\n",
    "        print(f\"{num} is not a prime number.\")\n",
    "else:\n",
    "    print(\"Enter a number greater than 1.\")"
   ]
  },
  {
   "cell_type": "markdown",
   "metadata": {},
   "source": [
    "# Elif Statement:"
   ]
  },
  {
   "cell_type": "markdown",
   "metadata": {},
   "source": [
    "### Question 21 : Write a program to assign grades based on different ranges of scores using elif statements."
   ]
  },
  {
   "cell_type": "code",
   "execution_count": 22,
   "metadata": {},
   "outputs": [
    {
     "name": "stdout",
     "output_type": "stream",
     "text": [
      "Enter the student's score: 90\n",
      "The student's grade is A.\n"
     ]
    }
   ],
   "source": [
    "score = float(input(\"Enter the student's score: \"))\n",
    "\n",
    "# Assign grades based on score ranges\n",
    "if 90 <= score <= 100:\n",
    "    grade = 'A'\n",
    "elif 80 <= score < 90:\n",
    "    grade = 'B'\n",
    "elif 70 <= score < 80:\n",
    "    grade = 'C'\n",
    "elif 60 <= score < 70:\n",
    "    grade = 'D'\n",
    "elif 0 <= score < 60:\n",
    "    grade = 'F'\n",
    "else:\n",
    "    grade = 'Invalid score'\n",
    "\n",
    "# Display the assigned grade\n",
    "if grade == 'Invalid score':\n",
    "    print(\"Invalid score. Please enter a valid score between 0 and 100.\")\n",
    "else:\n",
    "    print(f\"The student's grade is {grade}.\")"
   ]
  },
  {
   "cell_type": "markdown",
   "metadata": {},
   "source": [
    "### Question 22 : Implement a program to determine the type of a triangle based on its angles."
   ]
  },
  {
   "cell_type": "code",
   "execution_count": 23,
   "metadata": {},
   "outputs": [
    {
     "name": "stdout",
     "output_type": "stream",
     "text": [
      "Enter the length of side a: 45\n",
      "Enter the length of side b: 45\n",
      "Enter the length of side c: 45\n",
      "The triangle is acute.\n"
     ]
    }
   ],
   "source": [
    "import math\n",
    "\n",
    "# Input the lengths of the three sides of the triangle from the user\n",
    "a = float(input(\"Enter the length of side a: \"))\n",
    "b = float(input(\"Enter the length of side b: \"))\n",
    "c = float(input(\"Enter the length of side c: \"))\n",
    "\n",
    "# Check if the sides form a valid triangle\n",
    "if a + b > c and b + c > a and c + a > b:\n",
    "    # Calculate the angles using the Law of Cosines\n",
    "    A = math.degrees(math.acos((b**2 + c**2 - a**2) / (2 * b * c)))\n",
    "    B = math.degrees(math.acos((c**2 + a**2 - b**2) / (2 * c * a)))\n",
    "    C = math.degrees(math.acos((a**2 + b**2 - c**2) / (2 * a * b)))\n",
    "\n",
    "    # Determine the type of triangle based on its angles\n",
    "    if A < 90 and B < 90 and C < 90:\n",
    "        triangle_type = \"acute\"\n",
    "    elif A > 90 or B > 90 or C > 90:\n",
    "        triangle_type = \"obtuse\"\n",
    "    else:\n",
    "        triangle_type = \"right\"\n",
    "\n",
    "    # Display the type of triangle\n",
    "    print(f\"The triangle is {triangle_type}.\")\n",
    "else:\n",
    "    print(\"Invalid side lengths. They do not form a valid triangle.\")"
   ]
  },
  {
   "cell_type": "markdown",
   "metadata": {},
   "source": [
    "### Question 23 : Develop a program to categorize a given person's BMI into underweight, normal, overweight, or obese using elif statement."
   ]
  },
  {
   "cell_type": "code",
   "execution_count": 24,
   "metadata": {},
   "outputs": [
    {
     "name": "stdout",
     "output_type": "stream",
     "text": [
      "Enter your weight (in kilograms): 67\n",
      "Enter your height (in meters): 1.5\n",
      "Your BMI is 29.78, which falls into the category of overweight.\n"
     ]
    }
   ],
   "source": [
    "weight = float(input(\"Enter your weight (in kilograms): \"))\n",
    "height = float(input(\"Enter your height (in meters): \"))\n",
    "\n",
    "# Calculate BMI\n",
    "bmi = weight / (height ** 2)\n",
    "\n",
    "# Categorize BMI\n",
    "if bmi < 18.5:\n",
    "    category = \"underweight\"\n",
    "elif 18.5 <= bmi < 24.9:\n",
    "    category = \"normal weight\"\n",
    "elif 25 <= bmi < 29.9:\n",
    "    category = \"overweight\"\n",
    "else:\n",
    "    category = \"obese\"\n",
    "\n",
    "# Display the BMI category\n",
    "print(f\"Your BMI is {bmi:.2f}, which falls into the category of {category}.\")"
   ]
  },
  {
   "cell_type": "markdown",
   "metadata": {},
   "source": [
    "### Question 24 : Create a program that determines whether a given number is positive, negative, or zero using elif statements."
   ]
  },
  {
   "cell_type": "code",
   "execution_count": 25,
   "metadata": {},
   "outputs": [
    {
     "name": "stdout",
     "output_type": "stream",
     "text": [
      "Enter a number: 34\n",
      "The number is positive.\n"
     ]
    }
   ],
   "source": [
    "num = float(input(\"Enter a number: \"))\n",
    "\n",
    "# Check if the number is positive, negative, or zero\n",
    "if num > 0:\n",
    "    print(\"The number is positive.\")\n",
    "elif num < 0:\n",
    "    print(\"The number is negative.\")\n",
    "else:\n",
    "    print(\"The number is zero.\")"
   ]
  },
  {
   "cell_type": "markdown",
   "metadata": {},
   "source": [
    "### Question 25 : Write a python script to determine the type of a character ( uppercase, lowercase, or special ) using elif statement."
   ]
  },
  {
   "cell_type": "code",
   "execution_count": 26,
   "metadata": {},
   "outputs": [
    {
     "name": "stdout",
     "output_type": "stream",
     "text": [
      "Enter a character: a\n",
      "The character is lowercase.\n"
     ]
    }
   ],
   "source": [
    "char = input(\"Enter a character: \")\n",
    "\n",
    "# Check the type of character\n",
    "if char.isupper():\n",
    "    print(\"The character is uppercase.\")\n",
    "elif char.islower():\n",
    "    print(\"The character is lowercase.\")\n",
    "else:\n",
    "    print(\"The character is special.\")"
   ]
  },
  {
   "cell_type": "markdown",
   "metadata": {},
   "source": [
    "### Question 26 : Implement a program to calculate the discounted price based on different purchase amounts using elif statements."
   ]
  },
  {
   "cell_type": "code",
   "execution_count": 27,
   "metadata": {},
   "outputs": [
    {
     "name": "stdout",
     "output_type": "stream",
     "text": [
      "Enter the purchase amount: 344\n",
      "Original Price: $344.00\n",
      "Discounted Price: $309.60\n"
     ]
    }
   ],
   "source": [
    "purchase_amount = float(input(\"Enter the purchase amount: \"))\n",
    "\n",
    "# Initialize variables for discount rates\n",
    "discount_rate = 0.0\n",
    "\n",
    "# Determine the discount rate based on the purchase amount\n",
    "if purchase_amount >= 100:\n",
    "    discount_rate = 0.10  # 10% discount for purchases of $100 or more\n",
    "elif purchase_amount >= 50:\n",
    "    discount_rate = 0.05  # 5% discount for purchases of $50 to $99.99\n",
    "elif purchase_amount >= 20:\n",
    "    discount_rate = 0.02  # 2% discount for purchases of $20 to $49.99\n",
    "\n",
    "# Calculate the discounted price\n",
    "discounted_price = purchase_amount * (1 - discount_rate)\n",
    "\n",
    "# Display the discounted price\n",
    "print(f\"Original Price: ${purchase_amount:.2f}\")\n",
    "print(f\"Discounted Price: ${discounted_price:.2f}\")"
   ]
  },
  {
   "cell_type": "markdown",
   "metadata": {},
   "source": [
    "### Question 27 : Develop a program to calculate the electricity bill based on different consumption slabs using elif statements"
   ]
  },
  {
   "cell_type": "code",
   "execution_count": 28,
   "metadata": {},
   "outputs": [
    {
     "name": "stdout",
     "output_type": "stream",
     "text": [
      "Enter the electricity consumption in kWh: 34\n",
      "Electricity Consumption: 34.0 kWh\n",
      "Rate per Unit: $2.50 per kWh\n",
      "Total Bill: $85.00\n"
     ]
    }
   ],
   "source": [
    "consumption = float(input(\"Enter the electricity consumption in kWh: \"))\n",
    "\n",
    "# Initialize variables for the rate per unit and total bill amount\n",
    "rate_per_unit = 0.0\n",
    "total_bill = 0.0\n",
    "\n",
    "# Determine the rate per unit and calculate the bill based on consumption slabs\n",
    "if consumption <= 50:\n",
    "    rate_per_unit = 2.50  # Rate for the first 50 kWh\n",
    "    total_bill = consumption * rate_per_unit\n",
    "elif consumption <= 100:\n",
    "    rate_per_unit = 3.00  # Rate for consumption between 51 kWh and 100 kWh\n",
    "    total_bill = 50 * 2.50 + (consumption - 50) * rate_per_unit\n",
    "elif consumption <= 200:\n",
    "    rate_per_unit = 3.50  # Rate for consumption between 101 kWh and 200 kWh\n",
    "    total_bill = 50 * 2.50 + 50 * 3.00 + (consumption - 100) * rate_per_unit\n",
    "else:\n",
    "    rate_per_unit = 4.00  # Rate for consumption above 200 kWh\n",
    "    total_bill = 50 * 2.50 + 50 * 3.00 + 100 * 3.50 + (consumption - 200) * rate_per_unit\n",
    "\n",
    "# Display the electricity bill\n",
    "print(f\"Electricity Consumption: {consumption} kWh\")\n",
    "print(f\"Rate per Unit: ${rate_per_unit:.2f} per kWh\")\n",
    "print(f\"Total Bill: ${total_bill:.2f}\")"
   ]
  },
  {
   "cell_type": "markdown",
   "metadata": {},
   "source": [
    "### Question 28 : Create a program to determine the type of quadilateral based on its angles and sides using elif statements."
   ]
  },
  {
   "cell_type": "code",
   "execution_count": 29,
   "metadata": {},
   "outputs": [
    {
     "name": "stdout",
     "output_type": "stream",
     "text": [
      "Enter the first angle in degrees: 45\n",
      "Enter the second angle in degrees: 45\n",
      "Enter the third angle in degrees: 45\n",
      "Enter the fourth angle in degrees: 45\n",
      "Enter the length of side 1: 12\n",
      "Enter the length of side 2: 12\n",
      "Enter the length of side 3: 12\n",
      "Enter the length of side 4: 12\n",
      "The quadrilateral is a rhombus.\n"
     ]
    }
   ],
   "source": [
    "angle1 = float(input(\"Enter the first angle in degrees: \"))\n",
    "angle2 = float(input(\"Enter the second angle in degrees: \"))\n",
    "angle3 = float(input(\"Enter the third angle in degrees: \"))\n",
    "angle4 = float(input(\"Enter the fourth angle in degrees: \"))\n",
    "side1 = float(input(\"Enter the length of side 1: \"))\n",
    "side2 = float(input(\"Enter the length of side 2: \"))\n",
    "side3 = float(input(\"Enter the length of side 3: \"))\n",
    "side4 = float(input(\"Enter the length of side 4: \"))\n",
    "\n",
    "if angle1 == angle2 == angle3 == angle4 == 90:\n",
    "    if side1 == side2 == side3 == side4:\n",
    "        quadrilateral_type = \"square\"\n",
    "    else:\n",
    "        quadrilateral_type = \"rectangle\"\n",
    "elif side1 == side2 == side3 == side4:\n",
    "    if angle1 == angle2 == angle3 == angle4:\n",
    "        quadrilateral_type = \"rhombus\"\n",
    "    else:\n",
    "        quadrilateral_type = \"quadrilateral\"\n",
    "else:\n",
    "    quadrilateral_type = \"quadrilateral\"\n",
    "\n",
    "# Display the type of quadrilateral\n",
    "print(f\"The quadrilateral is a {quadrilateral_type}.\")"
   ]
  },
  {
   "cell_type": "markdown",
   "metadata": {},
   "source": [
    "### Question 29 : Write a Python script to determine the season based on a user-provided month using elif statements."
   ]
  },
  {
   "cell_type": "code",
   "execution_count": 30,
   "metadata": {},
   "outputs": [
    {
     "name": "stdout",
     "output_type": "stream",
     "text": [
      "Enter a month (e.g., January, February, etc.): january\n",
      "The season for January is winter.\n"
     ]
    }
   ],
   "source": [
    "# Input the month from the user\n",
    "month = input(\"Enter a month (e.g., January, February, etc.): \")\n",
    "\n",
    "# Convert the input to lowercase for case-insensitive comparison\n",
    "month = month.lower()\n",
    "\n",
    "# Determine the season based on the month\n",
    "if month in (\"december\", \"january\", \"february\"):\n",
    "    season = \"winter\"\n",
    "elif month in (\"march\", \"april\", \"may\"):\n",
    "    season = \"spring\"\n",
    "elif month in (\"june\", \"july\", \"august\"):\n",
    "    season = \"summer\"\n",
    "elif month in (\"september\", \"october\", \"november\"):\n",
    "    season = \"fall\"\n",
    "else:\n",
    "    season = \"invalid month\"\n",
    "\n",
    "# Display the season\n",
    "if season == \"invalid month\":\n",
    "    print(\"Invalid month entered. Please enter a valid month name.\")\n",
    "else:\n",
    "    print(f\"The season for {month.capitalize()} is {season}.\")"
   ]
  },
  {
   "cell_type": "markdown",
   "metadata": {},
   "source": [
    "### Question 30 : Implement a program to determine the types of a year ( leap or common ) and month ( 30 or 31 days ) using elif statements."
   ]
  },
  {
   "cell_type": "code",
   "execution_count": 31,
   "metadata": {},
   "outputs": [
    {
     "name": "stdout",
     "output_type": "stream",
     "text": [
      "Enter a year: 1200\n",
      "Enter a month (e.g., January, February, etc.): march\n",
      "1200 is a leap year.\n",
      "March has 31 days.\n"
     ]
    }
   ],
   "source": [
    "# Input the year and month from the user\n",
    "year = int(input(\"Enter a year: \"))\n",
    "month = input(\"Enter a month (e.g., January, February, etc.): \")\n",
    "\n",
    "# Convert the input month to lowercase for case-insensitive comparison\n",
    "month = month.lower()\n",
    "\n",
    "# Determine if the year is a leap year or common year\n",
    "if (year % 4 == 0 and year % 100 != 0) or (year % 400 == 0):\n",
    "    year_type = \"leap year\"\n",
    "else:\n",
    "    year_type = \"common year\"\n",
    "\n",
    "# Determine the number of days in the month\n",
    "if month in (\"january\", \"march\", \"may\", \"july\", \"august\", \"october\", \"december\"):\n",
    "    month_days = 31\n",
    "elif month in (\"april\", \"june\", \"september\", \"november\"):\n",
    "    month_days = 30\n",
    "elif month == \"february\":\n",
    "    if year_type == \"leap year\":\n",
    "        month_days = 29\n",
    "    else:\n",
    "        month_days = 28\n",
    "else:\n",
    "    month_days = \"invalid month\"\n",
    "\n",
    "# Display the type of year and the number of days in the month\n",
    "if month_days == \"invalid month\":\n",
    "    print(\"Invalid month entered. Please enter a valid month name.\")\n",
    "else:\n",
    "    print(f\"{year} is a {year_type}.\")\n",
    "    print(f\"{month.capitalize()} has {month_days} days.\")"
   ]
  },
  {
   "cell_type": "markdown",
   "metadata": {},
   "source": [
    "# Basic Level"
   ]
  },
  {
   "cell_type": "markdown",
   "metadata": {},
   "source": [
    "### Question 1 : Write a python program that checks if a given number is positive, negative or zero."
   ]
  },
  {
   "cell_type": "code",
   "execution_count": 32,
   "metadata": {},
   "outputs": [
    {
     "name": "stdout",
     "output_type": "stream",
     "text": [
      "Enter a number: 2\n",
      "The number is positive.\n"
     ]
    }
   ],
   "source": [
    "number = float(input(\"Enter a number: \"))\n",
    "\n",
    "# Check if the number is positive, negative, or zero\n",
    "if number > 0:\n",
    "    print(\"The number is positive.\")\n",
    "elif number < 0:\n",
    "    print(\"The number is negative.\")\n",
    "else:\n",
    "    print(\"The number is zero.\")"
   ]
  },
  {
   "cell_type": "markdown",
   "metadata": {},
   "source": [
    "### Question 2 : Create a program to determine if a person is eligible to vote based on their age."
   ]
  },
  {
   "cell_type": "code",
   "execution_count": 33,
   "metadata": {},
   "outputs": [
    {
     "name": "stdout",
     "output_type": "stream",
     "text": [
      "Please enter your age in years23\n",
      "You are eligible for voting\n"
     ]
    }
   ],
   "source": [
    "age = int(input(\"Please enter your age in years\"))\n",
    "\n",
    "if age >= 18:\n",
    "    print(\"You are eligible for voting\")\n",
    "else:\n",
    "    print(\"You are not eligible for voting \")"
   ]
  },
  {
   "cell_type": "markdown",
   "metadata": {},
   "source": [
    "### Question 3  : Write a program to find the maximum of two given numbers using conditional statements."
   ]
  },
  {
   "cell_type": "code",
   "execution_count": 34,
   "metadata": {},
   "outputs": [
    {
     "name": "stdout",
     "output_type": "stream",
     "text": [
      "Enter the first number: 11\n",
      "Enter the second number: 32\n",
      "The maximum number between 11.0 and 32.0 is 32.0.\n"
     ]
    }
   ],
   "source": [
    "num_1 = float(input(\"Enter the first number: \"))\n",
    "num_2 = float(input(\"Enter the second number: \"))\n",
    "\n",
    "# Compare the two numbers and find the maximum\n",
    "if num_1 > num_2:\n",
    "    max_num = num_1\n",
    "else:\n",
    "    max_num = num_2\n",
    "\n",
    "# Display the maximum number\n",
    "print(f\"The maximum number between {num_1} and {num_2} is {max_num}.\")"
   ]
  },
  {
   "cell_type": "markdown",
   "metadata": {},
   "source": [
    "### Question 4 : Develop a program that calculates the grade of a student based on their exam score."
   ]
  },
  {
   "cell_type": "code",
   "execution_count": 35,
   "metadata": {},
   "outputs": [
    {
     "name": "stdout",
     "output_type": "stream",
     "text": [
      "Enter the student's score: 99\n",
      "The student's grade is A.\n"
     ]
    }
   ],
   "source": [
    "score = float(input(\"Enter the student's score: \"))\n",
    "\n",
    "if 90 <= score <= 100:\n",
    "    grade = 'A'\n",
    "elif 80 <= score < 90:\n",
    "    grade = 'B'\n",
    "elif 70 <= score < 80:\n",
    "    grade = 'C'\n",
    "elif 60 <= score < 70:\n",
    "    grade = 'D'\n",
    "elif 0 <= score < 60:\n",
    "    grade = 'F'\n",
    "else:\n",
    "    grade = 'Invalid input'\n",
    "\n",
    "if grade == 'Invalid input':\n",
    "    print(\"Invalid input. Please enter a valid score between 0 and 100.\")\n",
    "else:\n",
    "    print(f\"The student's grade is {grade}.\")"
   ]
  },
  {
   "cell_type": "markdown",
   "metadata": {},
   "source": [
    "### Question 5 : Create a program that checks if a year is leap or not."
   ]
  },
  {
   "cell_type": "code",
   "execution_count": 36,
   "metadata": {},
   "outputs": [
    {
     "name": "stdout",
     "output_type": "stream",
     "text": [
      "Enter the year: 1200\n",
      "1200 is a leap year\n"
     ]
    }
   ],
   "source": [
    "year = int(input(\"Enter the year: \"))\n",
    "\n",
    "if (year % 4 == 0 and year % 100 != 0) or (year % 400 == 0):\n",
    "    print(year, \"is a leap year\")\n",
    "else:\n",
    "    print(year, \"is not a leap year\")\n",
    "    "
   ]
  },
  {
   "cell_type": "markdown",
   "metadata": {},
   "source": [
    "### Question 6 : Write a program to classify a triangle based on its side's lengths."
   ]
  },
  {
   "cell_type": "code",
   "execution_count": 37,
   "metadata": {},
   "outputs": [
    {
     "name": "stdout",
     "output_type": "stream",
     "text": [
      "Enter the length of side 1: 12\n",
      "Enter the length of side 2: 12\n",
      "Enter the length of side 3: 12\n",
      "The triangle is equilateral.\n"
     ]
    }
   ],
   "source": [
    "# Input the lengths of the three sides of the triangle\n",
    "side_1 = float(input(\"Enter the length of side 1: \"))\n",
    "side_2 = float(input(\"Enter the length of side 2: \"))\n",
    "side_3 = float(input(\"Enter the length of side 3: \"))\n",
    "\n",
    "# Check the type of triangle based on side lengths\n",
    "if side_1 == side_2 == side_3:\n",
    "    triangle_type = \"equilateral\"\n",
    "elif side_1 == side_2 or side_1 == side_3 or side_2 == side_3:\n",
    "    triangle_type = \"isosceles\"\n",
    "else:\n",
    "    triangle_type = \"scalene\"\n",
    "\n",
    "# Display the type of triangle\n",
    "print(f\"The triangle is {triangle_type}.\")"
   ]
  },
  {
   "cell_type": "markdown",
   "metadata": {},
   "source": [
    "### Question 7 : Build a program that determines the largest of three given numbers."
   ]
  },
  {
   "cell_type": "code",
   "execution_count": 38,
   "metadata": {},
   "outputs": [
    {
     "name": "stdout",
     "output_type": "stream",
     "text": [
      "Please enter the number23\n",
      "Please enter the number23\n",
      "Please enter the number34\n",
      "The largest number among 23.0 , 23.0 , and 34.0 is 34.0\n"
     ]
    }
   ],
   "source": [
    "num_1 = float(input(\"Please enter the number\"))\n",
    "num_2 = float(input(\"Please enter the number\"))\n",
    "num_3 = float(input(\"Please enter the number\"))\n",
    "\n",
    "if num_1 >= num_2 and num_1 >= num_3:\n",
    "    largest = num1\n",
    "elif num_2 >= num_1 and num_2 >= num_3:\n",
    "    largest = num_2\n",
    "else:\n",
    "    largest = num_3\n",
    "    \n",
    "print(\"The largest number among\", num_1, \",\", num_2, \", and\", num_3, \"is\", largest)"
   ]
  },
  {
   "cell_type": "markdown",
   "metadata": {},
   "source": [
    "### Question8 : Develop a program that checks whether a character is vowel or consonant."
   ]
  },
  {
   "cell_type": "code",
   "execution_count": 39,
   "metadata": {},
   "outputs": [
    {
     "name": "stdout",
     "output_type": "stream",
     "text": [
      "Enter a character: a\n",
      "a is a vowel.\n"
     ]
    }
   ],
   "source": [
    "char = input(\"Enter a character: \").lower()  \n",
    "\n",
    "if len(char) == 1 and char.isalpha():\n",
    "    if char in \"aeiou\":\n",
    "        print(f\"{char} is a vowel.\")\n",
    "    else:\n",
    "        print(f\"{char} is a consonant.\")\n",
    "else:\n",
    "    print(\"Please enter a valid single alphabetic character.\")"
   ]
  },
  {
   "cell_type": "markdown",
   "metadata": {},
   "source": [
    "### Question 9 : Create a program to calculate the total cost of a shopping cart based on discounts."
   ]
  },
  {
   "cell_type": "code",
   "execution_count": 40,
   "metadata": {},
   "outputs": [
    {
     "name": "stdout",
     "output_type": "stream",
     "text": [
      "Enter the price of item 1: 1212\n",
      "Enter the quantity of item 1: 34\n",
      "Enter the price of item 2: 211\n",
      "Enter the quantity of item 2: 34\n",
      "Enter the price of item 3: 11\n",
      "Enter the quantity of item 3: 33\n",
      "Total cost before discount: $48745.00\n",
      "Total cost after discount: $43870.50\n"
     ]
    }
   ],
   "source": [
    "# Initialize variables for item prices and quantities\n",
    "item1_price = float(input(\"Enter the price of item 1: \"))\n",
    "item1_quantity = int(input(\"Enter the quantity of item 1: \"))\n",
    "\n",
    "item2_price = float(input(\"Enter the price of item 2: \"))\n",
    "item2_quantity = int(input(\"Enter the quantity of item 2: \"))\n",
    "\n",
    "item3_price = float(input(\"Enter the price of item 3: \"))\n",
    "item3_quantity = int(input(\"Enter the quantity of item 3: \"))\n",
    "\n",
    "# Calculate the cost of each item and the total cost before discounts\n",
    "total_cost_before_discount = (item1_price * item1_quantity) + (item2_price * item2_quantity) + (item3_price * item3_quantity)\n",
    "\n",
    "# Apply discounts if the total cost is above a certain threshold\n",
    "if total_cost_before_discount >= 100:\n",
    "    discount_percentage = 0.10  # 10% discount for a total cost of $100 or more\n",
    "    discount_amount = total_cost_before_discount * discount_percentage\n",
    "    total_cost_after_discount = total_cost_before_discount - discount_amount\n",
    "else:\n",
    "    total_cost_after_discount = total_cost_before_discount\n",
    "\n",
    "# Display the total cost before and after discounts\n",
    "print(f\"Total cost before discount: ${total_cost_before_discount:.2f}\")\n",
    "print(f\"Total cost after discount: ${total_cost_after_discount:.2f}\")"
   ]
  },
  {
   "cell_type": "markdown",
   "metadata": {},
   "source": [
    "### Question 10 : Write a program that checks if a given number is even or odd."
   ]
  },
  {
   "cell_type": "code",
   "execution_count": 41,
   "metadata": {},
   "outputs": [
    {
     "name": "stdout",
     "output_type": "stream",
     "text": [
      "Enter a number: 2323\n",
      "2323 is odd.\n"
     ]
    }
   ],
   "source": [
    "# Input a number from the user\n",
    "number = int(input(\"Enter a number: \"))\n",
    "\n",
    "# Check if the number is even or odd\n",
    "if number % 2 == 0:\n",
    "    print(f\"{number} is even.\")\n",
    "else:\n",
    "    print(f\"{number} is odd.\")"
   ]
  },
  {
   "cell_type": "markdown",
   "metadata": {},
   "source": [
    "# Intermediate Level"
   ]
  },
  {
   "cell_type": "markdown",
   "metadata": {},
   "source": [
    "### Question 11 : Write a program that calculates the roots of a quadratic equation."
   ]
  },
  {
   "cell_type": "code",
   "execution_count": 42,
   "metadata": {},
   "outputs": [
    {
     "name": "stdout",
     "output_type": "stream",
     "text": [
      "Enter the coefficient a: 34\n",
      "Enter the coefficient b: 23\n",
      "Enter the coefficient c: 34\n",
      "Complex roots: (-0.3382352941176471+0.9410615738691857j) (-0.3382352941176471-0.9410615738691857j)\n"
     ]
    }
   ],
   "source": [
    "import math\n",
    "\n",
    "a = float(input(\"Enter the coefficient a: \"))\n",
    "b = float(input(\"Enter the coefficient b: \"))\n",
    "c = float(input(\"Enter the coefficient c: \"))\n",
    "\n",
    "discriminant = b**2 - 4*a*c\n",
    "\n",
    "# Calculate the roots\n",
    "if discriminant > 0:\n",
    "    root1 = (-b + math.sqrt(discriminant)) / (2*a)\n",
    "    root2 = (-b - math.sqrt(discriminant)) / (2*a)\n",
    "    print(\"Two real and distinct roots:\", root1, root2)\n",
    "    \n",
    "elif discriminant == 0:\n",
    "    root = -b / (2*a)\n",
    "    print(\"One real root (double root):\", root)\n",
    "    \n",
    "else:\n",
    "    real_part = -b / (2*a)\n",
    "    imaginary_part = math.sqrt(abs(discriminant)) / (2*a)\n",
    "    print(\"Complex roots:\", complex(real_part, imaginary_part), complex(real_part, -imaginary_part))\n"
   ]
  },
  {
   "cell_type": "markdown",
   "metadata": {},
   "source": [
    "### Question 12 : Create a program that determines the day of the week based on the day number (1-7)"
   ]
  },
  {
   "cell_type": "code",
   "execution_count": 43,
   "metadata": {},
   "outputs": [
    {
     "name": "stdout",
     "output_type": "stream",
     "text": [
      "Enter a day number (1-7): 5\n",
      "The day corresponding to 5 is Thursday.\n"
     ]
    }
   ],
   "source": [
    "day_number = int(input(\"Enter a day number (1-7): \"))\n",
    "\n",
    "day_names = [\"Sunday\", \"Monday\", \"Tuesday\", \"Wednesday\", \"Thursday\", \"Friday\", \"Saturday\"]\n",
    "\n",
    "if 1 <= day_number <= 7:\n",
    "        day_name = day_names[day_number - 1]\n",
    "\n",
    "        print(f\"The day corresponding to {day_number} is {day_name}.\")\n",
    "else:\n",
    "    print(\"Invalid input. Please enter a day number between 1 and 7.\")"
   ]
  },
  {
   "cell_type": "markdown",
   "metadata": {},
   "source": [
    "### Question 13 : Develop a program that calculates the factorial of a given number using recursion."
   ]
  },
  {
   "cell_type": "code",
   "execution_count": 44,
   "metadata": {},
   "outputs": [
    {
     "name": "stdout",
     "output_type": "stream",
     "text": [
      "Enter a non-negative integer: 11\n",
      "The factorial of 11 is 39916800.\n"
     ]
    }
   ],
   "source": [
    "def calculate_factorial(n):\n",
    "    if n == 0:\n",
    "        return 1\n",
    "    else:\n",
    "        return n * calculate_factorial(n - 1)\n",
    "\n",
    "num = int(input(\"Enter a non-negative integer: \"))\n",
    "\n",
    "if num < 0:\n",
    "    print(\"Factorial is not defined for negative numbers.\")\n",
    "else:\n",
    "    factorial = calculate_factorial(num)\n",
    "    print(f\"The factorial of {num} is {factorial}.\")"
   ]
  },
  {
   "cell_type": "markdown",
   "metadata": {},
   "source": [
    "### Question 14 : Write a program to find the largest among three numbers without using the max() function."
   ]
  },
  {
   "cell_type": "code",
   "execution_count": 45,
   "metadata": {},
   "outputs": [
    {
     "name": "stdout",
     "output_type": "stream",
     "text": [
      "Enter the first number: 23\n",
      "Enter the second number: 354\n",
      "Enter the third number: 2\n",
      "The largest number among 23.0, 354.0, and 2.0 is 354.0.\n"
     ]
    }
   ],
   "source": [
    "num_1 = float(input(\"Enter the first number: \"))\n",
    "num_2 = float(input(\"Enter the second number: \"))\n",
    "num_3 = float(input(\"Enter the third number: \"))\n",
    "\n",
    "# Compare the numbers to find the largest\n",
    "if num_1 >= num_2 and num_1 >= num_3:\n",
    "    largest = num_1\n",
    "elif num_2 >= num_1 and num_2 >= num_3:\n",
    "    largest = num_2\n",
    "else:\n",
    "    largest = num_3\n",
    "\n",
    "print(f\"The largest number among {num_1}, {num_2}, and {num_3} is {largest}.\")\n"
   ]
  },
  {
   "cell_type": "markdown",
   "metadata": {},
   "source": [
    "### Question 15 : Create a program that simulates a basic ATM transaction menu."
   ]
  },
  {
   "cell_type": "code",
   "execution_count": 46,
   "metadata": {},
   "outputs": [
    {
     "name": "stdout",
     "output_type": "stream",
     "text": [
      "\n",
      "ATM Menu:\n",
      "1. Check Balance\n",
      "2. Deposit Money\n",
      "3. Withdraw Money\n",
      "4. Exit\n",
      "Please select an option (1/2/3/4): 3\n",
      "Enter the amount you want to withdraw: $11\n",
      "$11.00 has been withdrawn from your account.\n",
      "\n",
      "ATM Menu:\n",
      "1. Check Balance\n",
      "2. Deposit Money\n",
      "3. Withdraw Money\n",
      "4. Exit\n",
      "Please select an option (1/2/3/4): 1\n",
      "Your account balance is $9989.00\n",
      "\n",
      "ATM Menu:\n",
      "1. Check Balance\n",
      "2. Deposit Money\n",
      "3. Withdraw Money\n",
      "4. Exit\n",
      "Please select an option (1/2/3/4): 4\n",
      "Thank you for using the ATM. Have a nice day!\n"
     ]
    }
   ],
   "source": [
    "account_balance = 10000.00\n",
    "\n",
    "# Function to display the account balance\n",
    "def check_balance():\n",
    "    print(f\"Your account balance is ${account_balance:.2f}\")\n",
    "\n",
    "def deposit():\n",
    "    global account_balance\n",
    "    amount = float(input(\"Enter the amount you want to deposit: $\"))\n",
    "    if amount > 0:\n",
    "        account_balance += amount\n",
    "        print(f\"${amount:.2f} has been deposited into your account.\")\n",
    "    else:\n",
    "        print(\"Invalid amount. Deposit failed.\")\n",
    "\n",
    "def withdraw():\n",
    "    global account_balance\n",
    "    amount = float(input(\"Enter the amount you want to withdraw: $\"))\n",
    "    if 0 < amount <= account_balance:\n",
    "        account_balance -= amount\n",
    "        print(f\"${amount:.2f} has been withdrawn from your account.\")\n",
    "    else:\n",
    "        print(\"Insufficient funds or invalid amount. Withdrawal failed.\")\n",
    "\n",
    "while True:\n",
    "    print(\"\\nATM Menu:\")\n",
    "    print(\"1. Check Balance\")\n",
    "    print(\"2. Deposit Money\")\n",
    "    print(\"3. Withdraw Money\")\n",
    "    print(\"4. Exit\")\n",
    "    \n",
    "    choice = input(\"Please select an option (1/2/3/4): \")\n",
    "    \n",
    "    if choice == '1':\n",
    "        check_balance()\n",
    "    elif choice == '2':\n",
    "        deposit()\n",
    "    elif choice == '3':\n",
    "        withdraw()\n",
    "    elif choice == '4':\n",
    "        print(\"Thank you for using the ATM. Have a nice day!\")\n",
    "        break\n",
    "    else:\n",
    "        print(\"Invalid option. Please select a valid option (1/2/3/4).\")"
   ]
  },
  {
   "cell_type": "markdown",
   "metadata": {},
   "source": [
    "### Question 16 : Build a program that checks if a given string is palinndrome or not."
   ]
  },
  {
   "cell_type": "code",
   "execution_count": 47,
   "metadata": {},
   "outputs": [
    {
     "name": "stdout",
     "output_type": "stream",
     "text": [
      "Enter a string: civic\n",
      "The string is a palindrome.\n"
     ]
    }
   ],
   "source": [
    "string_1 = input(\"Enter a string: \").lower() \n",
    "\n",
    "string_1 = ''.join(e for e in string_1 if e.isalnum())\n",
    "\n",
    "if string_1 == string_1[::-1]:\n",
    "    print(\"The string is a palindrome.\")\n",
    "else:\n",
    "    print(\"The string is not a palindrome.\")\n",
    "    "
   ]
  },
  {
   "cell_type": "markdown",
   "metadata": {},
   "source": [
    "### Question 17 : Write a program that calculates the average of a list of numbers, excluding the smallest and largest values."
   ]
  },
  {
   "cell_type": "code",
   "execution_count": 48,
   "metadata": {},
   "outputs": [
    {
     "name": "stdout",
     "output_type": "stream",
     "text": [
      "Enter a list of numbers separated by spaces: 3 44 53 54 2\n",
      "The average of the list, excluding the smallest and largest values, is 33.33\n"
     ]
    }
   ],
   "source": [
    "def average_without_extremes(numbers):\n",
    "    if len(numbers) <= 2:\n",
    "        return 0.0\n",
    "       \n",
    "    numbers.sort()\n",
    "    \n",
    "    numbers = numbers[1:-1]\n",
    "    \n",
    "    avg = sum(numbers) / len(numbers)\n",
    "    return avg\n",
    "\n",
    "number_list = input(\"Enter a list of numbers separated by spaces: \").split()\n",
    "numbers = [float(num) for num in number_list]\n",
    "\n",
    "result = average_without_extremes(numbers)\n",
    "print(f\"The average of the list, excluding the smallest and largest values, is {result:.2f}\")"
   ]
  },
  {
   "cell_type": "markdown",
   "metadata": {},
   "source": [
    "### Question 18 : Develop a program that converts a given temperature from celsius to fahrenheit."
   ]
  },
  {
   "cell_type": "code",
   "execution_count": 49,
   "metadata": {},
   "outputs": [
    {
     "name": "stdout",
     "output_type": "stream",
     "text": [
      "Enter the temperature in Celsius: 34\n",
      "34.0 degrees Celsius is equal to 93.20 degrees Fahrenheit.\n"
     ]
    }
   ],
   "source": [
    "celsius = float(input(\"Enter the temperature in Celsius: \"))\n",
    "\n",
    "fahrenheit = (celsius * 9/5) + 32\n",
    "\n",
    "print(f\"{celsius} degrees Celsius is equal to {fahrenheit:.2f} degrees Fahrenheit.\")"
   ]
  },
  {
   "cell_type": "markdown",
   "metadata": {},
   "source": [
    "### Question 19 : Create a program that simulates a basic calculator for addition, subtraction, multiplication and division."
   ]
  },
  {
   "cell_type": "code",
   "execution_count": 50,
   "metadata": {},
   "outputs": [
    {
     "name": "stdout",
     "output_type": "stream",
     "text": [
      "Options:\n",
      "Enter 'add' for addition\n",
      "Enter 'subtract' for subtraction\n",
      "Enter 'multiply' for multiplication\n",
      "Enter 'divide' for division\n",
      "Enter 'quit' to end the program\n",
      ": multiply\n",
      "Enter first number: 32\n",
      "Enter second number: 44\n",
      "Result: 1408.0\n",
      "Options:\n",
      "Enter 'add' for addition\n",
      "Enter 'subtract' for subtraction\n",
      "Enter 'multiply' for multiplication\n",
      "Enter 'divide' for division\n",
      "Enter 'quit' to end the program\n",
      ": quit\n"
     ]
    }
   ],
   "source": [
    "while True:\n",
    "    print(\"Options:\")\n",
    "    print(\"Enter 'add' for addition\")\n",
    "    print(\"Enter 'subtract' for subtraction\")\n",
    "    print(\"Enter 'multiply' for multiplication\")\n",
    "    print(\"Enter 'divide' for division\")\n",
    "    print(\"Enter 'quit' to end the program\")\n",
    "\n",
    "    user_input = input(\": \")\n",
    "\n",
    "    if user_input == \"quit\":\n",
    "        break\n",
    "\n",
    "    if user_input not in [\"add\", \"subtract\", \"multiply\", \"divide\"]:\n",
    "        print(\"Invalid input. Please enter a valid option.\")\n",
    "        continue\n",
    "\n",
    "    num1 = float(input(\"Enter first number: \"))\n",
    "    num2 = float(input(\"Enter second number: \"))\n",
    "\n",
    "    if user_input == \"add\":\n",
    "        result = num1 + num2\n",
    "    elif user_input == \"subtract\":\n",
    "        result = num1 - num2\n",
    "    elif user_input == \"multiply\":\n",
    "        result = num1 * num2\n",
    "    elif user_input == \"divide\":\n",
    "        if num2 == 0:\n",
    "            print(\"Error: Cannot divide by zero.\")\n",
    "            continue\n",
    "        result = num1 / num2\n",
    "\n",
    "    print(\"Result:\", result)"
   ]
  },
  {
   "cell_type": "markdown",
   "metadata": {},
   "source": [
    "### Question 20 : Write a program that determines the roots of a cubic equation using the cardano formula."
   ]
  },
  {
   "cell_type": "code",
   "execution_count": 51,
   "metadata": {},
   "outputs": [
    {
     "name": "stdout",
     "output_type": "stream",
     "text": [
      "Enter the coefficient a: 3\n",
      "Enter the coefficient b: 4\n",
      "Enter the coefficient c: 5\n",
      "Enter the coefficient d: 2\n",
      "Roots: (0.43239711208153864+0.5603663107826299j)\n"
     ]
    }
   ],
   "source": [
    "import math\n",
    "import cmath  \n",
    "\n",
    "\n",
    "def cubic_roots(a, b, c, d):\n",
    "    p = (3*a*c - b**2) / (3*a**2)\n",
    "    q = (2*b**3 - 9*a*b*c + 27*a**2*d) / (27*a**3)\n",
    "    discriminant = (q**2) / 4 + (p**3) / 27\n",
    "\n",
    "    if discriminant > 0:\n",
    "        u = ((-q / 2) + cmath.sqrt(discriminant)) ** (1/3)\n",
    "        v = ((-q / 2) - cmath.sqrt(discriminant)) ** (1/3)\n",
    "        root1 = (u + v) - (b / (3*a))\n",
    "        return root1\n",
    "    elif discriminant == 0:\n",
    "        u = (-q / 2) ** (1/3)\n",
    "        root1 = -2 * u - (b / (3*a))\n",
    "        root2 = u + (b / (3*a))\n",
    "        return root1, root2\n",
    "    else:\n",
    "        r = (-p / 3) ** (1/2)\n",
    "        theta = cmath.acos(-q / (2 * r**3))\n",
    "        root1 = (2 * r ** (1/3)) * cmath.cos(theta / 3) - (b / (3 * a))\n",
    "        root2 = (2 * r ** (1/3)) * cmath.cos((theta + 2 * cmath.pi) / 3) - (b / (3 * a))\n",
    "        root3 = (2 * r ** (1/3)) * cmath.cos((theta + 4 * cmath.pi) / 3) - (b / (3 * a))\n",
    "        return root1, root2, root3\n",
    "\n",
    "# Input coefficients a, b, c, and d\n",
    "a = float(input(\"Enter the coefficient a: \"))\n",
    "b = float(input(\"Enter the coefficient b: \"))\n",
    "c = float(input(\"Enter the coefficient c: \"))\n",
    "d = float(input(\"Enter the coefficient d: \"))\n",
    "\n",
    "# Calculate and print the roots\n",
    "roots = cubic_roots(a, b, c, d)\n",
    "print(\"Roots:\", roots)"
   ]
  },
  {
   "cell_type": "markdown",
   "metadata": {},
   "source": [
    "# Advanced Level"
   ]
  },
  {
   "cell_type": "markdown",
   "metadata": {},
   "source": [
    "### Question 21 : Create a program that calculates the income tax based on the user's income and tax brackets."
   ]
  },
  {
   "cell_type": "code",
   "execution_count": 52,
   "metadata": {},
   "outputs": [
    {
     "name": "stdout",
     "output_type": "stream",
     "text": [
      "Enter your annual income in Indian Rupees (₹): 120000\n",
      "Your income tax in Indian Rupees (₹) is: ₹0.00\n"
     ]
    }
   ],
   "source": [
    "def calculate_income_tax(income):\n",
    "    if income <= 0:\n",
    "        return 0\n",
    "\n",
    "    if income <= 250000:\n",
    "        tax = 0\n",
    "    elif income <= 500000:\n",
    "        tax = (income - 250000) * 0.05\n",
    "    elif income <= 1000000:\n",
    "        tax = 250000 * 0.05 + (income - 500000) * 0.20\n",
    "    else:\n",
    "        tax = 250000 * 0.05 + 500000 * 0.20 + (income - 1000000) * 0.30\n",
    "\n",
    "    return tax\n",
    "\n",
    "# Input user's income in Indian Rupees\n",
    "income = float(input(\"Enter your annual income in Indian Rupees (₹): \"))\n",
    "\n",
    "# Calculate and print the income tax\n",
    "tax = calculate_income_tax(income)\n",
    "print(f\"Your income tax in Indian Rupees (₹) is: ₹{tax:.2f}\")"
   ]
  },
  {
   "cell_type": "markdown",
   "metadata": {},
   "source": [
    "### Question 22 : Write a program that stimulates a rock-paper-scissors game againist the computer."
   ]
  },
  {
   "cell_type": "code",
   "execution_count": 53,
   "metadata": {},
   "outputs": [
    {
     "name": "stdout",
     "output_type": "stream",
     "text": [
      "Rock, Paper, Scissors\n",
      "Enter your choice (rock/paper/scissors): paper\n",
      "Computer's choice: scissors\n",
      "Computer wins!\n",
      "Play again? (yes/no): no\n"
     ]
    }
   ],
   "source": [
    "import random\n",
    "\n",
    "# Function to get the computer's choice\n",
    "def get_computer_choice():\n",
    "    choices = [\"rock\", \"paper\", \"scissors\"]\n",
    "    computer_choice = random.choice(choices)\n",
    "    return computer_choice\n",
    "\n",
    "# Function to determine the winner\n",
    "def determine_winner(player_choice, computer_choice):\n",
    "    if player_choice == computer_choice:\n",
    "        return \"It's a tie!\"\n",
    "    elif (\n",
    "        (player_choice == \"rock\" and computer_choice == \"scissors\") or\n",
    "        (player_choice == \"paper\" and computer_choice == \"rock\") or\n",
    "        (player_choice == \"scissors\" and computer_choice == \"paper\")\n",
    "    ):\n",
    "        return \"You win!\"\n",
    "    else:\n",
    "        return \"Computer wins!\"\n",
    "\n",
    "# Main game loop\n",
    "while True:\n",
    "    print(\"Rock, Paper, Scissors\")\n",
    "    player_choice = input(\"Enter your choice (rock/paper/scissors): \").lower()\n",
    "\n",
    "    if player_choice not in [\"rock\", \"paper\", \"scissors\"]:\n",
    "        print(\"Invalid choice. Please choose again.\")\n",
    "        continue\n",
    "\n",
    "    computer_choice = get_computer_choice()\n",
    "    print(f\"Computer's choice: {computer_choice}\")\n",
    "\n",
    "    result = determine_winner(player_choice, computer_choice)\n",
    "    print(result)\n",
    "\n",
    "    play_again = input(\"Play again? (yes/no): \").lower()\n",
    "    if play_again != \"yes\":\n",
    "        break"
   ]
  },
  {
   "cell_type": "markdown",
   "metadata": {},
   "source": [
    "### Question 23 : Develop a program that generates a random password based on user preferences(length, complexity)"
   ]
  },
  {
   "cell_type": "code",
   "execution_count": 54,
   "metadata": {},
   "outputs": [
    {
     "name": "stdout",
     "output_type": "stream",
     "text": [
      "Enter the password length: 11\n",
      "Enter complexity level (low/medium/high): high\n",
      "Generated Password: [W<FcJxCYV_\n"
     ]
    }
   ],
   "source": [
    "import random\n",
    "import string\n",
    "\n",
    "# Function to generate a random password\n",
    "def generate_password(length, complex_level):\n",
    "    if complex_level == \"low\":\n",
    "        characters = string.ascii_letters\n",
    "    elif complex_level == \"medium\":\n",
    "        characters = string.ascii_letters + string.digits\n",
    "    elif complex_level == \"high\":\n",
    "        characters = string.ascii_letters + string.digits + string.punctuation\n",
    "    else:\n",
    "        print(\"Invalid complexity level.\")\n",
    "        return\n",
    "\n",
    "    password = ''.join(random.choice(characters) for _ in range(length))\n",
    "    return password\n",
    "\n",
    "# Input user preferences\n",
    "length = int(input(\"Enter the password length: \"))\n",
    "complex_level = input(\"Enter complexity level (low/medium/high): \").lower()\n",
    "\n",
    "# Generate and print the password\n",
    "password = generate_password(length, complex_level)\n",
    "if password:\n",
    "    print(\"Generated Password:\", password)"
   ]
  },
  {
   "cell_type": "markdown",
   "metadata": {},
   "source": [
    "### Question 24 : Create a program that implements a simple text-based adventure game with branching scnearios."
   ]
  },
  {
   "cell_type": "code",
   "execution_count": 56,
   "metadata": {},
   "outputs": [
    {
     "name": "stdout",
     "output_type": "stream",
     "text": [
      "Welcome to the Text Adventure Game!\n",
      "You find yourself at the entrance of a dark cave.\n",
      "You have two paths ahead: 'left' and 'right'.\n",
      "Which path will you choose? (left/right): right\n",
      "You entered the right path and encountered a fierce dragon!\n",
      "Do you want to 'fight' the dragon or 'run' away?\n",
      "Your choice (fight/run): fight\n",
      "You bravely fought the dragon and emerged victorious!\n",
      "Thanks for playing!\n"
     ]
    }
   ],
   "source": [
    "def start_game():\n",
    "    print(\"Welcome to the Text Adventure Game!\")\n",
    "    print(\"You find yourself at the entrance of a dark cave.\")\n",
    "    print(\"You have two paths ahead: 'left' and 'right'.\")\n",
    "\n",
    "    while True:\n",
    "        choice1 = input(\"Which path will you choose? (left/right): \").lower()\n",
    "\n",
    "        if choice1 == \"left\":\n",
    "            print(\"You entered the left path and discovered a treasure chest!\")\n",
    "            print(\"Do you want to 'open' it or 'leave' it behind?\")\n",
    "            choice2 = input(\"Your choice (open/leave): \").lower()\n",
    "            if choice2 == \"open\":\n",
    "                print(\"Congratulations! You found a valuable treasure!\")\n",
    "                break\n",
    "            elif choice2 == \"leave\":\n",
    "                print(\"You decided to leave the chest and continue your adventure.\")\n",
    "                break\n",
    "            else:\n",
    "                print(\"Invalid choice. Please enter 'open' or 'leave'.\")\n",
    "\n",
    "        elif choice1 == \"right\":\n",
    "            print(\"You entered the right path and encountered a fierce dragon!\")\n",
    "            print(\"Do you want to 'fight' the dragon or 'run' away?\")\n",
    "            choice2 = input(\"Your choice (fight/run): \").lower()\n",
    "            if choice2 == \"fight\":\n",
    "                print(\"You bravely fought the dragon and emerged victorious!\")\n",
    "                break\n",
    "            elif choice2 == \"run\":\n",
    "                print(\"You wisely ran away from the dragon, ensuring your safety.\")\n",
    "                break\n",
    "            else:\n",
    "                print(\"Invalid choice. Please enter 'fight' or 'run'.\")\n",
    "\n",
    "        else:\n",
    "            print(\"Invalid choice. Please enter 'left' or 'right'.\")\n",
    "\n",
    "    print(\"Thanks for playing!\")\n",
    "\n",
    "# Start the game\n",
    "start_game()"
   ]
  },
  {
   "cell_type": "markdown",
   "metadata": {},
   "source": [
    "### Question 25 : Build a program that solves a linear equation for x, considering different cases."
   ]
  },
  {
   "cell_type": "code",
   "execution_count": 57,
   "metadata": {},
   "outputs": [
    {
     "name": "stdout",
     "output_type": "stream",
     "text": [
      "Enter the coefficient a: 2\n",
      "Enter the coefficient b: 3\n",
      "Enter the constant term c: 4\n",
      "The solution for x is: x = 0.5\n"
     ]
    }
   ],
   "source": [
    "# Function to solve a linear equation ax + b = c for x\n",
    "def solve_linear_equation(a, b, c):\n",
    "    if a == 0:\n",
    "        if b == c:\n",
    "            return \"Infinite solutions (Any value of x will satisfy the equation).\"\n",
    "        else:\n",
    "            return \"No solution (The equation is inconsistent).\"\n",
    "    else:\n",
    "        x = (c - b) / a\n",
    "        return f\"The solution for x is: x = {x}\"\n",
    "\n",
    "# Input coefficients a, b, and c\n",
    "a = float(input(\"Enter the coefficient a: \"))\n",
    "b = float(input(\"Enter the coefficient b: \"))\n",
    "c = float(input(\"Enter the constant term c: \"))\n",
    "\n",
    "# Solve the linear equation\n",
    "result = solve_linear_equation(a, b, c)\n",
    "print(result)"
   ]
  },
  {
   "cell_type": "markdown",
   "metadata": {},
   "source": [
    "### Question 26: Write a program that stimulates a basic quiz game with multiple-choice questions and scoring."
   ]
  },
  {
   "cell_type": "code",
   "execution_count": 58,
   "metadata": {},
   "outputs": [
    {
     "name": "stdout",
     "output_type": "stream",
     "text": [
      "Welcome to the Basic Quiz Game!\n",
      "Enter your name: abhimanyu\n",
      "Hello, abhimanyu!\n",
      "\n",
      "What is the capital of France?\n",
      "A) London\n",
      "B) Berlin\n",
      "C) Paris\n",
      "D) Madrid\n",
      "Your answer (A/B/C/D): c\n",
      "Correct!\n",
      "\n",
      "Which planet is known as the 'Red Planet'?\n",
      "A) Venus\n",
      "B) Mars\n",
      "C) Jupiter\n",
      "D) Saturn\n",
      "Your answer (A/B/C/D): b\n",
      "Correct!\n",
      "\n",
      "What is the largest mammal in the world?\n",
      "A) Elephant\n",
      "B) Blue Whale\n",
      "C) Giraffe\n",
      "D) Dolphin\n",
      "Your answer (A/B/C/D): a\n",
      "Wrong. The correct answer is B.\n",
      "\n",
      "Your final score: 2/3\n"
     ]
    }
   ],
   "source": [
    "def administer_quiz(questions):\n",
    "    score = 0\n",
    "    for question in questions:\n",
    "        print(question[\"question\"])\n",
    "        for option in question[\"options\"]:\n",
    "            print(option)\n",
    "\n",
    "        user_answer = input(\"Your answer (A/B/C/D): \").strip().upper()  # Convert the user's answer to uppercase\n",
    "\n",
    "        if user_answer == question[\"correct_answer\"]:\n",
    "            print(\"Correct!\\n\")\n",
    "            score += 1\n",
    "        else:\n",
    "            print(f\"Wrong. The correct answer is {question['correct_answer']}.\\n\")\n",
    "\n",
    "    return score\n",
    "\n",
    "# Define the quiz questions and answers\n",
    "questions = [\n",
    "    {\n",
    "        \"question\": \"What is the capital of France?\",\n",
    "        \"options\": [\"A) London\", \"B) Berlin\", \"C) Paris\", \"D) Madrid\"],\n",
    "        \"correct_answer\": \"C\",\n",
    "    },\n",
    "    {\n",
    "        \"question\": \"Which planet is known as the 'Red Planet'?\",\n",
    "        \"options\": [\"A) Venus\", \"B) Mars\", \"C) Jupiter\", \"D) Saturn\"],\n",
    "        \"correct_answer\": \"B\",\n",
    "    },\n",
    "    {\n",
    "        \"question\": \"What is the largest mammal in the world?\",\n",
    "        \"options\": [\"A) Elephant\", \"B) Blue Whale\", \"C) Giraffe\", \"D) Dolphin\"],\n",
    "        \"correct_answer\": \"B\",\n",
    "    },\n",
    "]\n",
    "\n",
    "# Main quiz game (same as before)\n",
    "print(\"Welcome to the Basic Quiz Game!\")\n",
    "user_name = input(\"Enter your name: \")\n",
    "print(f\"Hello, {user_name}!\\n\")\n",
    "\n",
    "user_score = administer_quiz(questions)\n",
    "print(f\"Your final score: {user_score}/{len(questions)}\")"
   ]
  },
  {
   "cell_type": "markdown",
   "metadata": {},
   "source": [
    "### Question 27: Develop a program that determines whether a given year is prime number or not."
   ]
  },
  {
   "cell_type": "code",
   "execution_count": 59,
   "metadata": {},
   "outputs": [
    {
     "name": "stdout",
     "output_type": "stream",
     "text": [
      "Enter a year: 1200\n",
      "1200 is not a prime year.\n"
     ]
    }
   ],
   "source": [
    "def is_prime(year):\n",
    "    if year <= 1:\n",
    "        return False\n",
    "    if year <= 3:\n",
    "        return True\n",
    "\n",
    "    if year % 2 == 0 or year % 3 == 0:\n",
    "        return False\n",
    "\n",
    "    i = 5\n",
    "    while i * i <= year:\n",
    "        if year % i == 0 or year % (i + 2) == 0:\n",
    "            return False\n",
    "        i += 6\n",
    "\n",
    "    return True\n",
    "\n",
    "# Input the year\n",
    "year = int(input(\"Enter a year: \"))\n",
    "\n",
    "# Check if the year is prime and print the result\n",
    "if is_prime(year):\n",
    "    print(f\"{year} is a prime year.\")\n",
    "else:\n",
    "    print(f\"{year} is not a prime year.\")"
   ]
  },
  {
   "cell_type": "markdown",
   "metadata": {},
   "source": [
    "### Question 28 : Create a program that sorts three numbers in ascending order using conditional statements."
   ]
  },
  {
   "cell_type": "code",
   "execution_count": 60,
   "metadata": {},
   "outputs": [
    {
     "name": "stdout",
     "output_type": "stream",
     "text": [
      "Enter the first number: 12\n",
      "Enter the second number: 3\n",
      "Enter the third number: 42\n",
      "Numbers in ascending order: [3.0, 12.0, 42.0]\n"
     ]
    }
   ],
   "source": [
    "num_1 = float(input(\"Enter the first number: \"))\n",
    "num_2 = float(input(\"Enter the second number: \"))\n",
    "num_3 = float(input(\"Enter the third number: \"))\n",
    "\n",
    "# Compare and arrange the numbers in ascending order using conditional statements\n",
    "if num_1 <= num_2 <= num_3:\n",
    "    sorted_nums = [num_1, num_2, num_3]\n",
    "elif num_1 <= num_3 <= num_2:\n",
    "    sorted_nums = [num_1, num_3, num_2]\n",
    "elif num_2 <= num_1 <= num_3:\n",
    "    sorted_nums = [num_2, num_1, num_3]\n",
    "elif num_2 <= num_3 <= num_1:\n",
    "    sorted_nums = [num_2, num_3, num_1]\n",
    "elif num_3 <= num_1 <= num_2:\n",
    "    sorted_nums = [num_3, num_1, num_2]\n",
    "else:\n",
    "    sorted_nums = [num_3, num_2, num_1]\n",
    "\n",
    "# Display the sorted numbers\n",
    "print(\"Numbers in ascending order:\", sorted_nums)"
   ]
  },
  {
   "cell_type": "markdown",
   "metadata": {},
   "source": [
    "### Question 29 : Build a program that determines the roots of a quadratic equation using numerical methods."
   ]
  },
  {
   "cell_type": "code",
   "execution_count": 61,
   "metadata": {},
   "outputs": [
    {
     "name": "stdout",
     "output_type": "stream",
     "text": [
      "Enter the coefficient a: 2\n",
      "Enter the coefficient b: 3\n",
      "Enter the coefficient c: 4\n",
      "Root 1: 0.9999990463256836\n",
      "Root 2: -0.9999997615814209\n"
     ]
    }
   ],
   "source": [
    "def find_quadratic_roots(a, b, c, tolerance=1e-6, max_iterations=1000):\n",
    "    # Define the equation function\n",
    "    def f(x):\n",
    "        return a * x**2 + b * x + c\n",
    "    \n",
    "    # Initialize interval for the bisection method\n",
    "    x_low = -1.0\n",
    "    x_high = 1.0\n",
    "\n",
    "    # Iterate using the bisection method\n",
    "    for _ in range(max_iterations):\n",
    "        x_mid = (x_low + x_high) / 2\n",
    "        if f(x_mid) == 0 or (x_high - x_low) / 2 < tolerance:\n",
    "            return x_mid\n",
    "        if f(x_mid) * f(x_low) < 0:\n",
    "            x_high = x_mid\n",
    "        else:\n",
    "            x_low = x_mid\n",
    "\n",
    "    return None  # No root found within the specified tolerance\n",
    "\n",
    "# Input coefficients a, b, and c\n",
    "a = float(input(\"Enter the coefficient a: \"))\n",
    "b = float(input(\"Enter the coefficient b: \"))\n",
    "c = float(input(\"Enter the coefficient c: \"))\n",
    "\n",
    "# Find and display the roots\n",
    "root1 = find_quadratic_roots(a, b, c)\n",
    "if root1 is not None:\n",
    "    root2 = (-b - root1) / (2 * a)\n",
    "    print(f\"Root 1: {root1}\")\n",
    "    print(f\"Root 2: {root2}\")\n",
    "else:\n",
    "    print(\"No real roots found within the specified tolerance.\")"
   ]
  },
  {
   "cell_type": "markdown",
   "metadata": {},
   "source": [
    "### Question 30 : Write a program that calculates the BMI(Body Mass Index) and provides health recommendations based on the user's input."
   ]
  },
  {
   "cell_type": "code",
   "execution_count": 62,
   "metadata": {},
   "outputs": [
    {
     "name": "stdout",
     "output_type": "stream",
     "text": [
      "Enter your weight in kilograms: 67\n",
      "Enter your height in meters: 1.6\n",
      "Your BMI is: 26.17\n",
      "Overweight: Consider losing some weight for better health.\n"
     ]
    }
   ],
   "source": [
    "def calculate_bmi(weight_kg, height_m):\n",
    "    return weight_kg / (height_m ** 2)\n",
    "\n",
    "# Function to provide health recommendations\n",
    "def get_health_recommendation(bmi):\n",
    "    if bmi < 18.5:\n",
    "        return \"Underweight: You may want to gain some weight for better health.\"\n",
    "    elif 18.5 <= bmi < 24.9:\n",
    "        return \"Normal weight: You are within a healthy weight range.\"\n",
    "    elif 25 <= bmi < 29.9:\n",
    "        return \"Overweight: Consider losing some weight for better health.\"\n",
    "    else:\n",
    "        return \"Obese: It's important to manage your weight for better health.\"\n",
    "\n",
    "# Input user's weight (in kilograms) and height (in meters)\n",
    "weight_kg = float(input(\"Enter your weight in kilograms: \"))\n",
    "height_m = float(input(\"Enter your height in meters: \"))\n",
    "\n",
    "# Calculate BMI\n",
    "bmi = calculate_bmi(weight_kg, height_m)\n",
    "\n",
    "# Display the BMI and health recommendations\n",
    "print(f\"Your BMI is: {bmi:.2f}\")\n",
    "recommendation = get_health_recommendation(bmi)\n",
    "print(recommendation)"
   ]
  },
  {
   "cell_type": "markdown",
   "metadata": {},
   "source": [
    "# Challenge Level"
   ]
  },
  {
   "cell_type": "markdown",
   "metadata": {},
   "source": [
    "### Question 31 : Create a program that validates a password based on complexity rules ( length, characters, etc )."
   ]
  },
  {
   "cell_type": "code",
   "execution_count": 63,
   "metadata": {},
   "outputs": [
    {
     "name": "stdout",
     "output_type": "stream",
     "text": [
      "Enter a password: !cedfhh1d@J\n",
      "Password is valid.\n"
     ]
    }
   ],
   "source": [
    "import re\n",
    "\n",
    "# Function to validate a password\n",
    "def validate_password(password):\n",
    "    # Define complexity rules\n",
    "    min_length = 8\n",
    "    has_uppercase = re.search(r'[A-Z]', password)\n",
    "    has_lowercase = re.search(r'[a-z]', password)\n",
    "    has_digit = re.search(r'\\d', password)\n",
    "    has_special_char = re.search(r'[!@#$%^&*()_+{}\\[\\]:;<>,.?~\\\\/-]', password)\n",
    "\n",
    "    # Check if the password meets the complexity rules\n",
    "    if (\n",
    "        len(password) >= min_length and\n",
    "        has_uppercase and\n",
    "        has_lowercase and\n",
    "        has_digit and\n",
    "        has_special_char\n",
    "    ):\n",
    "        return True\n",
    "    else:\n",
    "        return False\n",
    "\n",
    "# Input the password\n",
    "password = input(\"Enter a password: \")\n",
    "\n",
    "# Validate the password\n",
    "if validate_password(password):\n",
    "    print(\"Password is valid.\")\n",
    "else:\n",
    "    print(\"Password is invalid. It does not meet the complexity rules.\")"
   ]
  },
  {
   "cell_type": "markdown",
   "metadata": {},
   "source": [
    "### Question 32 : Develop a program that performs matrix addition and subtraction based on user input."
   ]
  },
  {
   "cell_type": "code",
   "execution_count": 64,
   "metadata": {},
   "outputs": [
    {
     "name": "stdout",
     "output_type": "stream",
     "text": [
      "Enter the number of rows: 2\n",
      "Enter the number of columns: 2\n",
      "Enter the first matrix:\n",
      "Enter elements for a 2x2 matrix:\n",
      "Enter element at row 1, column 1: 2\n",
      "Enter element at row 1, column 2: 2\n",
      "Enter element at row 2, column 1: 2\n",
      "Enter element at row 2, column 2: 2\n",
      "Enter the second matrix:\n",
      "Enter elements for a 2x2 matrix:\n",
      "Enter element at row 1, column 1: 21\n",
      "Enter element at row 1, column 2: 3\n",
      "Enter element at row 2, column 1: 12\n",
      "Enter element at row 2, column 2: 3\n",
      "\n",
      "Matrix Addition Result:\n",
      "[23.0, 5.0]\n",
      "[14.0, 5.0]\n",
      "\n",
      "Matrix Subtraction Result:\n",
      "[-19.0, -1.0]\n",
      "[-10.0, -1.0]\n"
     ]
    }
   ],
   "source": [
    "# Function to input a matrix\n",
    "def input_matrix(rows, cols):\n",
    "    matrix = []\n",
    "    print(f\"Enter elements for a {rows}x{cols} matrix:\")\n",
    "    for i in range(rows):\n",
    "        row = []\n",
    "        for j in range(cols):\n",
    "            element = float(input(f\"Enter element at row {i + 1}, column {j + 1}: \"))\n",
    "            row.append(element)\n",
    "        matrix.append(row)\n",
    "    return matrix\n",
    "\n",
    "# Function to perform matrix addition\n",
    "def add_matrices(matrix1, matrix2):\n",
    "    result = []\n",
    "    for i in range(len(matrix1)):\n",
    "        row = []\n",
    "        for j in range(len(matrix1[0])):\n",
    "            row.append(matrix1[i][j] + matrix2[i][j])\n",
    "        result.append(row)\n",
    "    return result\n",
    "\n",
    "# Function to perform matrix subtraction\n",
    "def subtract_matrices(matrix1, matrix2):\n",
    "    result = []\n",
    "    for i in range(len(matrix1)):\n",
    "        row = []\n",
    "        for j in range(len(matrix1[0])):\n",
    "            row.append(matrix1[i][j] - matrix2[i][j])\n",
    "        result.append(row)\n",
    "    return result\n",
    "\n",
    "# Input the number of rows and columns for the matrices\n",
    "rows = int(input(\"Enter the number of rows: \"))\n",
    "cols = int(input(\"Enter the number of columns: \"))\n",
    "\n",
    "# Input the first matrix\n",
    "print(\"Enter the first matrix:\")\n",
    "matrix1 = input_matrix(rows, cols)\n",
    "\n",
    "# Input the second matrix\n",
    "print(\"Enter the second matrix:\")\n",
    "matrix2 = input_matrix(rows, cols)\n",
    "\n",
    "# Perform addition and subtraction\n",
    "addition_result = add_matrices(matrix1, matrix2)\n",
    "subtraction_result = subtract_matrices(matrix1, matrix2)\n",
    "\n",
    "# Display the results\n",
    "print(\"\\nMatrix Addition Result:\")\n",
    "for row in addition_result:\n",
    "    print(row)\n",
    "\n",
    "print(\"\\nMatrix Subtraction Result:\")\n",
    "for row in subtraction_result:\n",
    "    print(row)"
   ]
  },
  {
   "cell_type": "markdown",
   "metadata": {},
   "source": [
    "### Question 33 : Write a program that calculates the greatest common divisor ( GCD ) of two numbers using the Eucliden algorithm."
   ]
  },
  {
   "cell_type": "code",
   "execution_count": 65,
   "metadata": {},
   "outputs": [
    {
     "name": "stdout",
     "output_type": "stream",
     "text": [
      "Enter the first number: 1212\n",
      "Enter the second number: 344\n",
      "The GCD of 1212 and 344 is: 4\n"
     ]
    }
   ],
   "source": [
    "def calculate_gcd(a, b):\n",
    "    while b:\n",
    "        a, b = b, a % b\n",
    "    return a\n",
    "\n",
    "# Input two numbers\n",
    "num1 = int(input(\"Enter the first number: \"))\n",
    "num2 = int(input(\"Enter the second number: \"))\n",
    "\n",
    "# Calculate and display the GCD\n",
    "gcd = calculate_gcd(num1, num2)\n",
    "print(f\"The GCD of {num1} and {num2} is: {gcd}\")"
   ]
  },
  {
   "cell_type": "markdown",
   "metadata": {},
   "source": [
    "### Question 34 :Build a program that performs matrix multiplication using nested loops and conditional statements."
   ]
  },
  {
   "cell_type": "code",
   "execution_count": 66,
   "metadata": {},
   "outputs": [
    {
     "name": "stdout",
     "output_type": "stream",
     "text": [
      "Enter the number of rows for the first matrix: 2\n",
      "Enter the number of columns for the first matrix: 2\n",
      "Enter the number of rows for the second matrix: 2\n",
      "Enter the number of columns for the second matrix: 2\n",
      "Enter the first matrix:\n",
      "Enter element at row 1, column 1: 12\n",
      "Enter element at row 1, column 2: 12\n",
      "Enter element at row 2, column 1: 34\n",
      "Enter element at row 2, column 2: 2\n",
      "Enter the second matrix:\n",
      "Enter element at row 1, column 1: 43\n",
      "Enter element at row 1, column 2: 32\n",
      "Enter element at row 2, column 1: 23\n",
      "Enter element at row 2, column 2: 11\n",
      "\n",
      "Matrix Multiplication Result:\n",
      "[792.0, 516.0]\n",
      "[1508.0, 1110.0]\n"
     ]
    }
   ],
   "source": [
    "# Function to perform matrix multiplication\n",
    "def multiply_matrices(matrix1, matrix2):\n",
    "    if len(matrix1[0]) != len(matrix2):\n",
    "        print(\"Matrix multiplication is not possible. The number of columns in the first matrix must be equal to the number of rows in the second matrix.\")\n",
    "        return None\n",
    "\n",
    "    result = []\n",
    "    rows1, cols1 = len(matrix1), len(matrix1[0])\n",
    "    rows2, cols2 = len(matrix2), len(matrix2[0])\n",
    "\n",
    "    for i in range(rows1):\n",
    "        row = []\n",
    "        for j in range(cols2):\n",
    "            sum = 0\n",
    "            for k in range(cols1):\n",
    "                sum += matrix1[i][k] * matrix2[k][j]\n",
    "            row.append(sum)\n",
    "        result.append(row)\n",
    "    return result\n",
    "\n",
    "# Input the number of rows and columns for the matrices\n",
    "rows1 = int(input(\"Enter the number of rows for the first matrix: \"))\n",
    "cols1 = int(input(\"Enter the number of columns for the first matrix: \"))\n",
    "\n",
    "rows2 = int(input(\"Enter the number of rows for the second matrix: \"))\n",
    "cols2 = int(input(\"Enter the number of columns for the second matrix: \"))\n",
    "\n",
    "# Input the first matrix\n",
    "print(\"Enter the first matrix:\")\n",
    "matrix1 = []\n",
    "for i in range(rows1):\n",
    "    row = []\n",
    "    for j in range(cols1):\n",
    "        element = float(input(f\"Enter element at row {i + 1}, column {j + 1}: \"))\n",
    "        row.append(element)\n",
    "    matrix1.append(row)\n",
    "\n",
    "# Input the second matrix\n",
    "print(\"Enter the second matrix:\")\n",
    "matrix2 = []\n",
    "for i in range(rows2):\n",
    "    row = []\n",
    "    for j in range(cols2):\n",
    "        element = float(input(f\"Enter element at row {i + 1}, column {j + 1}: \"))\n",
    "        row.append(element)\n",
    "    matrix2.append(row)\n",
    "\n",
    "# Perform matrix multiplication\n",
    "result = multiply_matrices(matrix1, matrix2)\n",
    "\n",
    "# Display the result\n",
    "if result:\n",
    "    print(\"\\nMatrix Multiplication Result:\")\n",
    "    for row in result:\n",
    "        print(row)"
   ]
  },
  {
   "cell_type": "markdown",
   "metadata": {},
   "source": [
    "### Question 35 : Create a program that simulates a basic text-based tic-tac-toe games against the computer."
   ]
  },
  {
   "cell_type": "code",
   "execution_count": 67,
   "metadata": {},
   "outputs": [
    {
     "name": "stdout",
     "output_type": "stream",
     "text": [
      "Welcome to Tic-Tac-Toe!\n",
      "  |   |  \n",
      "---------\n",
      "  |   |  \n",
      "---------\n",
      "  |   |  \n",
      "---------\n",
      "Enter your move (row and column): 1 0\n",
      "  |   |  \n",
      "---------\n",
      "X |   |  \n",
      "---------\n",
      "  |   |  \n",
      "---------\n",
      "Computer's turn...\n",
      "  |   |  \n",
      "---------\n",
      "X | O |  \n",
      "---------\n",
      "  |   |  \n",
      "---------\n",
      "Enter your move (row and column): 2 0\n",
      "  |   |  \n",
      "---------\n",
      "X | O |  \n",
      "---------\n",
      "X |   |  \n",
      "---------\n",
      "Computer's turn...\n",
      "  |   |  \n",
      "---------\n",
      "X | O |  \n",
      "---------\n",
      "X |   | O\n",
      "---------\n",
      "Enter your move (row and column): 0 0\n",
      "X |   |  \n",
      "---------\n",
      "X | O |  \n",
      "---------\n",
      "X |   | O\n",
      "---------\n",
      "X wins!\n"
     ]
    }
   ],
   "source": [
    "import random\n",
    "\n",
    "def print_board(board):\n",
    "    for row in board:\n",
    "        print(\" | \".join(row))\n",
    "        print(\"-\" * 9)\n",
    "\n",
    "def is_winner(board, player):\n",
    "    for row in board:\n",
    "        if all(cell == player for cell in row):\n",
    "            return True\n",
    "\n",
    "    for col in range(3):\n",
    "        if all(board[row][col] == player for row in range(3)):\n",
    "            return True\n",
    "\n",
    "    if all(board[i][i] == player for i in range(3)) or all(board[i][2 - i] == player for i in range(3)):\n",
    "        return True\n",
    "\n",
    "    return False\n",
    "\n",
    "def is_full(board):\n",
    "    return all(cell != \" \" for row in board for cell in row)\n",
    "\n",
    "def computer_move(board):\n",
    "    empty_cells = [(i, j) for i in range(3) for j in range(3) if board[i][j] == \" \"]\n",
    "    return random.choice(empty_cells)\n",
    "\n",
    "def main():\n",
    "    board = [[\" \" for _ in range(3)] for _ in range(3)\n",
    "             ]\n",
    "    player = \"X\"\n",
    "    computer = \"O\"\n",
    "\n",
    "    print(\"Welcome to Tic-Tac-Toe!\")\n",
    "    print_board(board)\n",
    "\n",
    "    while True:\n",
    "        if player == \"X\":\n",
    "            row, col = map(int, input(\"Enter your move (row and column): \").split())\n",
    "        else:\n",
    "            print(\"Computer's turn...\")\n",
    "            row, col = computer_move(board)\n",
    "\n",
    "        if board[row][col] == \" \":\n",
    "            board[row][col] = player\n",
    "        else:\n",
    "            print(\"Invalid move. Try again.\")\n",
    "            continue\n",
    "\n",
    "        print_board(board)\n",
    "\n",
    "        if is_winner(board, player):\n",
    "            print(f\"{player} wins!\")\n",
    "            break\n",
    "        elif is_full(board):\n",
    "            print(\"It's a draw!\")\n",
    "            break\n",
    "\n",
    "        player = \"O\" if player == \"X\" else \"X\"\n",
    "\n",
    "if __name__ == \"__main__\":\n",
    "    main()\n",
    "    "
   ]
  },
  {
   "cell_type": "markdown",
   "metadata": {},
   "source": [
    "### Question 36 : Write a program that generates fibonacci numbers up to a specified term using iterative methods."
   ]
  },
  {
   "cell_type": "code",
   "execution_count": 68,
   "metadata": {},
   "outputs": [
    {
     "name": "stdout",
     "output_type": "stream",
     "text": [
      "Enter the number of Fibonacci terms to generate: 23\n",
      "Fibonacci Sequence:\n",
      "[0, 1, 1, 2, 3, 5, 8, 13, 21, 34, 55, 89, 144, 233, 377, 610, 987, 1597, 2584, 4181, 6765, 10946, 17711]\n"
     ]
    }
   ],
   "source": [
    "def generate_fibonacci(n):\n",
    "    fib_sequence = [0, 1]\n",
    "\n",
    "    if n <= 0:\n",
    "        return []\n",
    "    elif n == 1:\n",
    "        return [0]\n",
    "    elif n == 2:\n",
    "        return fib_sequence\n",
    "\n",
    "    for i in range(2, n):\n",
    "        next_fib = fib_sequence[i - 1] + fib_sequence[i - 2]\n",
    "        fib_sequence.append(next_fib)\n",
    "\n",
    "    return fib_sequence\n",
    "\n",
    "# Input from the user\n",
    "try:\n",
    "    n = int(input(\"Enter the number of Fibonacci terms to generate: \"))\n",
    "    if n < 0:\n",
    "        print(\"Please enter a non-negative number.\")\n",
    "    else:\n",
    "        result = generate_fibonacci(n)\n",
    "        if result:\n",
    "            print(\"Fibonacci Sequence:\")\n",
    "            print(result)\n",
    "        else:\n",
    "            print(\"No Fibonacci terms to generate.\")\n",
    "except ValueError:\n",
    "    print(\"Invalid input. Please enter a valid number.\")"
   ]
  },
  {
   "cell_type": "markdown",
   "metadata": {},
   "source": [
    "### Question 37 : Develop a program that calculates the nth term of fibonacci sequence using memorization."
   ]
  },
  {
   "cell_type": "code",
   "execution_count": 72,
   "metadata": {},
   "outputs": [
    {
     "name": "stdout",
     "output_type": "stream",
     "text": [
      "Enter the value of n to calculate the nth Fibonacci term: 22\n",
      "The 22th Fibonacci term is: 17711\n"
     ]
    }
   ],
   "source": [
    "# Define the cache for memoization\n",
    "fib_cache = {}\n",
    "def fibonacci(n):\n",
    "    if n in fib_cache:\n",
    "        return fib_cache[n]\n",
    "\n",
    "    if n <= 1:\n",
    "        result = n\n",
    "    else:\n",
    "        result = fibonacci(n - 1) + fibonacci(n - 2)\n",
    "\n",
    "    fib_cache[n] = result\n",
    "    return result\n",
    "\n",
    "# Input from the user\n",
    "n = int(input(\"Enter the value of n to calculate the nth Fibonacci term: \"))\n",
    "result = fibonacci(n)\n",
    "print(f\"The {n}th Fibonacci term is: {result}\")"
   ]
  },
  {
   "cell_type": "markdown",
   "metadata": {},
   "source": [
    "### Question 38 : Create a program that generates a calendar for a given month and year using conditional statements."
   ]
  },
  {
   "cell_type": "code",
   "execution_count": 73,
   "metadata": {},
   "outputs": [
    {
     "name": "stdout",
     "output_type": "stream",
     "text": [
      "Enter the year: 1991\n",
      "Enter the month (1-12): 9\n",
      "Calendar for September 1991\n",
      "Mo Tu We Th Fr Sa Su\n",
      "                   1   2   3   4   5   6   7  \n",
      " 8   9  10  11  12  13  14  \n",
      "15  16  17  18  19  20  21  \n",
      "22  23  24  25  26  27  28  \n",
      "29  30  \n"
     ]
    }
   ],
   "source": [
    "def generate_calendar(year, month):\n",
    "    import datetime\n",
    "\n",
    "    # Create a date object for the first day of the month\n",
    "    first_day = datetime.date(year, month, 1)\n",
    "\n",
    "    # Find the number of days in the month\n",
    "    if month == 12:\n",
    "        last_day = datetime.date(year + 1, 1, 1)\n",
    "    else:\n",
    "        last_day = datetime.date(year, month + 1, 1)\n",
    "    num_days = (last_day - first_day).days\n",
    "\n",
    "    # Print the calendar header\n",
    "    print(f\"Calendar for {first_day.strftime('%B')} {year}\")\n",
    "    print(\"Mo Tu We Th Fr Sa Su\")\n",
    "\n",
    "    # Calculate the starting day of the week (0 = Monday, 6 = Sunday)\n",
    "    start_day = first_day.weekday()\n",
    "\n",
    "    # Print leading spaces for the first day\n",
    "    print(\"   \" * start_day, end=\"\")\n",
    "\n",
    "    # Print the calendar\n",
    "    for day in range(1, num_days + 1):\n",
    "        print(f\"{day:2} \", end=\" \")\n",
    "\n",
    "        # Check if it's a Sunday (end of the week)\n",
    "        if (start_day + day) % 7 == 6:\n",
    "            print()  # Start a new line\n",
    "\n",
    "    print()  # Add a newline at the end\n",
    "\n",
    "# Input from the user\n",
    "try:\n",
    "    year = int(input(\"Enter the year: \"))\n",
    "    month = int(input(\"Enter the month (1-12): \"))\n",
    "\n",
    "    if 1 <= month <= 12:\n",
    "        generate_calendar(year, month)\n",
    "    else:\n",
    "        print(\"Invalid month. Please enter a number between 1 and 12.\")\n",
    "except ValueError:\n",
    "    print(\"Invalid input. Please enter valid numbers.\")"
   ]
  },
  {
   "cell_type": "markdown",
   "metadata": {},
   "source": [
    "### Question 39 : Build a program that simulates a basic text-based blackjack game against the computer."
   ]
  },
  {
   "cell_type": "code",
   "execution_count": 74,
   "metadata": {},
   "outputs": [
    {
     "name": "stdout",
     "output_type": "stream",
     "text": [
      "Do you want to play a game of Blackjack? Type 'y' or 'n': Y\n",
      "Welcome to Blackjack!\n",
      "Your hand: [10, 10], current score: 20\n",
      "Computer's face-up card: 6\n",
      "Type 'y' to get another card, or 'n' to pass: N\n",
      "Your final hand: [10, 10], final score: 20\n",
      "Computer's final hand: [6, 7, 8], final score: 21\n",
      "You lose.\n",
      "Do you want to play a game of Blackjack? Type 'y' or 'n': N\n"
     ]
    }
   ],
   "source": [
    "import random\n",
    "\n",
    "def deal_card():\n",
    "    \"\"\"Deal a random card from a standard deck.\"\"\"\n",
    "    cards = [2, 3, 4, 5, 6, 7, 8, 9, 10, 10, 10, 10, 11] * 4\n",
    "    return random.choice(cards)\n",
    "\n",
    "def calculate_score(hand):\n",
    "    \"\"\"Calculate the total score of a hand of cards.\"\"\"\n",
    "    score = sum(hand)\n",
    "    if score > 21 and 11 in hand:\n",
    "        hand.remove(11)\n",
    "        hand.append(1)\n",
    "        score = sum(hand)\n",
    "    return score\n",
    "\n",
    "def blackjack():\n",
    "    player_hand = [deal_card(), deal_card()]\n",
    "    computer_hand = [deal_card(), deal_card()]\n",
    "\n",
    "    print(\"Welcome to Blackjack!\")\n",
    "    print(f\"Your hand: {player_hand}, current score: {calculate_score(player_hand)}\")\n",
    "    print(f\"Computer's face-up card: {computer_hand[0]}\")\n",
    "\n",
    "    # Player's turn\n",
    "    while calculate_score(player_hand) < 21:\n",
    "        action = input(\"Type 'y' to get another card, or 'n' to pass: \").lower()\n",
    "        if action == 'y':\n",
    "            player_hand.append(deal_card())\n",
    "            print(f\"Your hand: {player_hand}, current score: {calculate_score(player_hand)}\")\n",
    "        else:\n",
    "            break\n",
    "\n",
    "    # Computer's turn\n",
    "    while calculate_score(computer_hand) < 17:\n",
    "        computer_hand.append(deal_card())\n",
    "\n",
    "    # Determine the winner\n",
    "    player_score = calculate_score(player_hand)\n",
    "    computer_score = calculate_score(computer_hand)\n",
    "    print(f\"Your final hand: {player_hand}, final score: {player_score}\")\n",
    "    print(f\"Computer's final hand: {computer_hand}, final score: {computer_score}\")\n",
    "\n",
    "    if player_score == 21 and len(player_hand) == 2:\n",
    "        print(\"Blackjack! You win!\")\n",
    "    elif computer_score == 21 and len(computer_hand) == 2:\n",
    "        print(\"Computer has a Blackjack. You lose.\")\n",
    "    elif player_score > 21:\n",
    "        print(\"Bust! You went over 21. You lose.\")\n",
    "    elif computer_score > 21:\n",
    "        print(\"Computer went over 21. You win!\")\n",
    "    elif player_score > computer_score:\n",
    "        print(\"You win!\")\n",
    "    elif player_score < computer_score:\n",
    "        print(\"You lose.\")\n",
    "    else:\n",
    "        print(\"It's a draw!\")\n",
    "\n",
    "if __name__ == \"__main__\":\n",
    "    while input(\"Do you want to play a game of Blackjack? Type 'y' or 'n': \").lower() == 'y':\n",
    "        blackjack()\n",
    "\n",
    "    "
   ]
  },
  {
   "cell_type": "markdown",
   "metadata": {},
   "source": [
    "### Question 40 : Write a program that generates the prime factors of a given number using trial division."
   ]
  },
  {
   "cell_type": "code",
   "execution_count": 75,
   "metadata": {},
   "outputs": [
    {
     "name": "stdout",
     "output_type": "stream",
     "text": [
      "Enter a number to find its prime factors: 234\n",
      "The prime factors of 234 are: [2, 3, 3, 13]\n"
     ]
    }
   ],
   "source": [
    "def prime_factors(n):\n",
    "    factors = []\n",
    "    divisor = 2  # Start with the smallest prime number\n",
    "\n",
    "    while n > 1:\n",
    "        while n % divisor == 0:\n",
    "            factors.append(divisor)\n",
    "            n //= divisor\n",
    "        divisor += 1\n",
    "\n",
    "    return factors\n",
    "\n",
    "# Input from the user\n",
    "try:\n",
    "    num = int(input(\"Enter a number to find its prime factors: \"))\n",
    "\n",
    "    if num < 2:\n",
    "        print(\"Prime factors are not applicable for numbers less than 2.\")\n",
    "    else:\n",
    "        factors = prime_factors(num)\n",
    "        if len(factors) == 0:\n",
    "            print(f\"{num} is a prime number with no prime factors.\")\n",
    "        else:\n",
    "            print(f\"The prime factors of {num} are: {factors}\")\n",
    "except ValueError:\n",
    "    print(\"Invalid input. Please enter a valid number.\")"
   ]
  },
  {
   "cell_type": "code",
   "execution_count": null,
   "metadata": {},
   "outputs": [],
   "source": []
  }
 ],
 "metadata": {
  "kernelspec": {
   "display_name": "Python 3",
   "language": "python",
   "name": "python3"
  },
  "language_info": {
   "codemirror_mode": {
    "name": "ipython",
    "version": 3
   },
   "file_extension": ".py",
   "mimetype": "text/x-python",
   "name": "python",
   "nbconvert_exporter": "python",
   "pygments_lexer": "ipython3",
   "version": "3.8.5"
  }
 },
 "nbformat": 4,
 "nbformat_minor": 4
}
